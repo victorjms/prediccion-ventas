{
  "nbformat": 4,
  "nbformat_minor": 0,
  "metadata": {
    "colab": {
      "name": "Proyecto.ipynb",
      "provenance": [],
      "authorship_tag": "ABX9TyNxcgFIfu8RjoL4gpb5ETfg",
      "include_colab_link": true
    },
    "kernelspec": {
      "name": "python3",
      "display_name": "Python 3"
    },
    "language_info": {
      "name": "python"
    }
  },
  "cells": [
    {
      "cell_type": "markdown",
      "metadata": {
        "id": "view-in-github",
        "colab_type": "text"
      },
      "source": [
        "<a href=\"https://colab.research.google.com/github/victorjms/prediccion-ventas/blob/main/Proyecto.ipynb\" target=\"_parent\"><img src=\"https://colab.research.google.com/assets/colab-badge.svg\" alt=\"Open In Colab\"/></a>"
      ]
    },
    {
      "cell_type": "code",
      "source": [
        "from google.colab import drive\n",
        "drive.mount('/content/drive')"
      ],
      "metadata": {
        "colab": {
          "base_uri": "https://localhost:8080/"
        },
        "id": "PRnM87xu4KFd",
        "outputId": "16473722-3757-4e38-988a-2995d5038ad9"
      },
      "execution_count": 103,
      "outputs": [
        {
          "output_type": "stream",
          "name": "stdout",
          "text": [
            "Drive already mounted at /content/drive; to attempt to forcibly remount, call drive.mount(\"/content/drive\", force_remount=True).\n"
          ]
        }
      ]
    },
    {
      "cell_type": "code",
      "source": [
        "import seaborn as sns"
      ],
      "metadata": {
        "id": "b0QjPGEP7M9Y"
      },
      "execution_count": 104,
      "outputs": []
    },
    {
      "cell_type": "code",
      "execution_count": 105,
      "metadata": {
        "colab": {
          "base_uri": "https://localhost:8080/",
          "height": 661
        },
        "id": "Ui7NBIjT0epT",
        "outputId": "113ad728-0c24-49da-8aca-59baf9cc40cb"
      },
      "outputs": [
        {
          "output_type": "execute_result",
          "data": {
            "text/html": [
              "\n",
              "  <div id=\"df-cb59568a-d0cc-4d6e-a2f6-2211006c713a\">\n",
              "    <div class=\"colab-df-container\">\n",
              "      <div>\n",
              "<style scoped>\n",
              "    .dataframe tbody tr th:only-of-type {\n",
              "        vertical-align: middle;\n",
              "    }\n",
              "\n",
              "    .dataframe tbody tr th {\n",
              "        vertical-align: top;\n",
              "    }\n",
              "\n",
              "    .dataframe thead th {\n",
              "        text-align: right;\n",
              "    }\n",
              "</style>\n",
              "<table border=\"1\" class=\"dataframe\">\n",
              "  <thead>\n",
              "    <tr style=\"text-align: right;\">\n",
              "      <th></th>\n",
              "      <th>Item_Identifier</th>\n",
              "      <th>Item_Weight</th>\n",
              "      <th>Item_Fat_Content</th>\n",
              "      <th>Item_Visibility</th>\n",
              "      <th>Item_Type</th>\n",
              "      <th>Item_MRP</th>\n",
              "      <th>Outlet_Identifier</th>\n",
              "      <th>Outlet_Establishment_Year</th>\n",
              "      <th>Outlet_Size</th>\n",
              "      <th>Outlet_Location_Type</th>\n",
              "      <th>Outlet_Type</th>\n",
              "      <th>Item_Outlet_Sales</th>\n",
              "    </tr>\n",
              "  </thead>\n",
              "  <tbody>\n",
              "    <tr>\n",
              "      <th>0</th>\n",
              "      <td>FDA15</td>\n",
              "      <td>9.300</td>\n",
              "      <td>Low Fat</td>\n",
              "      <td>0.016047</td>\n",
              "      <td>Dairy</td>\n",
              "      <td>249.8092</td>\n",
              "      <td>OUT049</td>\n",
              "      <td>1999</td>\n",
              "      <td>Medium</td>\n",
              "      <td>Tier 1</td>\n",
              "      <td>Supermarket Type1</td>\n",
              "      <td>3735.1380</td>\n",
              "    </tr>\n",
              "    <tr>\n",
              "      <th>1</th>\n",
              "      <td>DRC01</td>\n",
              "      <td>5.920</td>\n",
              "      <td>Regular</td>\n",
              "      <td>0.019278</td>\n",
              "      <td>Soft Drinks</td>\n",
              "      <td>48.2692</td>\n",
              "      <td>OUT018</td>\n",
              "      <td>2009</td>\n",
              "      <td>Medium</td>\n",
              "      <td>Tier 3</td>\n",
              "      <td>Supermarket Type2</td>\n",
              "      <td>443.4228</td>\n",
              "    </tr>\n",
              "    <tr>\n",
              "      <th>2</th>\n",
              "      <td>FDN15</td>\n",
              "      <td>17.500</td>\n",
              "      <td>Low Fat</td>\n",
              "      <td>0.016760</td>\n",
              "      <td>Meat</td>\n",
              "      <td>141.6180</td>\n",
              "      <td>OUT049</td>\n",
              "      <td>1999</td>\n",
              "      <td>Medium</td>\n",
              "      <td>Tier 1</td>\n",
              "      <td>Supermarket Type1</td>\n",
              "      <td>2097.2700</td>\n",
              "    </tr>\n",
              "    <tr>\n",
              "      <th>3</th>\n",
              "      <td>FDX07</td>\n",
              "      <td>19.200</td>\n",
              "      <td>Regular</td>\n",
              "      <td>0.000000</td>\n",
              "      <td>Fruits and Vegetables</td>\n",
              "      <td>182.0950</td>\n",
              "      <td>OUT010</td>\n",
              "      <td>1998</td>\n",
              "      <td>NaN</td>\n",
              "      <td>Tier 3</td>\n",
              "      <td>Grocery Store</td>\n",
              "      <td>732.3800</td>\n",
              "    </tr>\n",
              "    <tr>\n",
              "      <th>4</th>\n",
              "      <td>NCD19</td>\n",
              "      <td>8.930</td>\n",
              "      <td>Low Fat</td>\n",
              "      <td>0.000000</td>\n",
              "      <td>Household</td>\n",
              "      <td>53.8614</td>\n",
              "      <td>OUT013</td>\n",
              "      <td>1987</td>\n",
              "      <td>High</td>\n",
              "      <td>Tier 3</td>\n",
              "      <td>Supermarket Type1</td>\n",
              "      <td>994.7052</td>\n",
              "    </tr>\n",
              "    <tr>\n",
              "      <th>...</th>\n",
              "      <td>...</td>\n",
              "      <td>...</td>\n",
              "      <td>...</td>\n",
              "      <td>...</td>\n",
              "      <td>...</td>\n",
              "      <td>...</td>\n",
              "      <td>...</td>\n",
              "      <td>...</td>\n",
              "      <td>...</td>\n",
              "      <td>...</td>\n",
              "      <td>...</td>\n",
              "      <td>...</td>\n",
              "    </tr>\n",
              "    <tr>\n",
              "      <th>8518</th>\n",
              "      <td>FDF22</td>\n",
              "      <td>6.865</td>\n",
              "      <td>Low Fat</td>\n",
              "      <td>0.056783</td>\n",
              "      <td>Snack Foods</td>\n",
              "      <td>214.5218</td>\n",
              "      <td>OUT013</td>\n",
              "      <td>1987</td>\n",
              "      <td>High</td>\n",
              "      <td>Tier 3</td>\n",
              "      <td>Supermarket Type1</td>\n",
              "      <td>2778.3834</td>\n",
              "    </tr>\n",
              "    <tr>\n",
              "      <th>8519</th>\n",
              "      <td>FDS36</td>\n",
              "      <td>8.380</td>\n",
              "      <td>Regular</td>\n",
              "      <td>0.046982</td>\n",
              "      <td>Baking Goods</td>\n",
              "      <td>108.1570</td>\n",
              "      <td>OUT045</td>\n",
              "      <td>2002</td>\n",
              "      <td>NaN</td>\n",
              "      <td>Tier 2</td>\n",
              "      <td>Supermarket Type1</td>\n",
              "      <td>549.2850</td>\n",
              "    </tr>\n",
              "    <tr>\n",
              "      <th>8520</th>\n",
              "      <td>NCJ29</td>\n",
              "      <td>10.600</td>\n",
              "      <td>Low Fat</td>\n",
              "      <td>0.035186</td>\n",
              "      <td>Health and Hygiene</td>\n",
              "      <td>85.1224</td>\n",
              "      <td>OUT035</td>\n",
              "      <td>2004</td>\n",
              "      <td>Small</td>\n",
              "      <td>Tier 2</td>\n",
              "      <td>Supermarket Type1</td>\n",
              "      <td>1193.1136</td>\n",
              "    </tr>\n",
              "    <tr>\n",
              "      <th>8521</th>\n",
              "      <td>FDN46</td>\n",
              "      <td>7.210</td>\n",
              "      <td>Regular</td>\n",
              "      <td>0.145221</td>\n",
              "      <td>Snack Foods</td>\n",
              "      <td>103.1332</td>\n",
              "      <td>OUT018</td>\n",
              "      <td>2009</td>\n",
              "      <td>Medium</td>\n",
              "      <td>Tier 3</td>\n",
              "      <td>Supermarket Type2</td>\n",
              "      <td>1845.5976</td>\n",
              "    </tr>\n",
              "    <tr>\n",
              "      <th>8522</th>\n",
              "      <td>DRG01</td>\n",
              "      <td>14.800</td>\n",
              "      <td>Low Fat</td>\n",
              "      <td>0.044878</td>\n",
              "      <td>Soft Drinks</td>\n",
              "      <td>75.4670</td>\n",
              "      <td>OUT046</td>\n",
              "      <td>1997</td>\n",
              "      <td>Small</td>\n",
              "      <td>Tier 1</td>\n",
              "      <td>Supermarket Type1</td>\n",
              "      <td>765.6700</td>\n",
              "    </tr>\n",
              "  </tbody>\n",
              "</table>\n",
              "<p>8523 rows × 12 columns</p>\n",
              "</div>\n",
              "      <button class=\"colab-df-convert\" onclick=\"convertToInteractive('df-cb59568a-d0cc-4d6e-a2f6-2211006c713a')\"\n",
              "              title=\"Convert this dataframe to an interactive table.\"\n",
              "              style=\"display:none;\">\n",
              "        \n",
              "  <svg xmlns=\"http://www.w3.org/2000/svg\" height=\"24px\"viewBox=\"0 0 24 24\"\n",
              "       width=\"24px\">\n",
              "    <path d=\"M0 0h24v24H0V0z\" fill=\"none\"/>\n",
              "    <path d=\"M18.56 5.44l.94 2.06.94-2.06 2.06-.94-2.06-.94-.94-2.06-.94 2.06-2.06.94zm-11 1L8.5 8.5l.94-2.06 2.06-.94-2.06-.94L8.5 2.5l-.94 2.06-2.06.94zm10 10l.94 2.06.94-2.06 2.06-.94-2.06-.94-.94-2.06-.94 2.06-2.06.94z\"/><path d=\"M17.41 7.96l-1.37-1.37c-.4-.4-.92-.59-1.43-.59-.52 0-1.04.2-1.43.59L10.3 9.45l-7.72 7.72c-.78.78-.78 2.05 0 2.83L4 21.41c.39.39.9.59 1.41.59.51 0 1.02-.2 1.41-.59l7.78-7.78 2.81-2.81c.8-.78.8-2.07 0-2.86zM5.41 20L4 18.59l7.72-7.72 1.47 1.35L5.41 20z\"/>\n",
              "  </svg>\n",
              "      </button>\n",
              "      \n",
              "  <style>\n",
              "    .colab-df-container {\n",
              "      display:flex;\n",
              "      flex-wrap:wrap;\n",
              "      gap: 12px;\n",
              "    }\n",
              "\n",
              "    .colab-df-convert {\n",
              "      background-color: #E8F0FE;\n",
              "      border: none;\n",
              "      border-radius: 50%;\n",
              "      cursor: pointer;\n",
              "      display: none;\n",
              "      fill: #1967D2;\n",
              "      height: 32px;\n",
              "      padding: 0 0 0 0;\n",
              "      width: 32px;\n",
              "    }\n",
              "\n",
              "    .colab-df-convert:hover {\n",
              "      background-color: #E2EBFA;\n",
              "      box-shadow: 0px 1px 2px rgba(60, 64, 67, 0.3), 0px 1px 3px 1px rgba(60, 64, 67, 0.15);\n",
              "      fill: #174EA6;\n",
              "    }\n",
              "\n",
              "    [theme=dark] .colab-df-convert {\n",
              "      background-color: #3B4455;\n",
              "      fill: #D2E3FC;\n",
              "    }\n",
              "\n",
              "    [theme=dark] .colab-df-convert:hover {\n",
              "      background-color: #434B5C;\n",
              "      box-shadow: 0px 1px 3px 1px rgba(0, 0, 0, 0.15);\n",
              "      filter: drop-shadow(0px 1px 2px rgba(0, 0, 0, 0.3));\n",
              "      fill: #FFFFFF;\n",
              "    }\n",
              "  </style>\n",
              "\n",
              "      <script>\n",
              "        const buttonEl =\n",
              "          document.querySelector('#df-cb59568a-d0cc-4d6e-a2f6-2211006c713a button.colab-df-convert');\n",
              "        buttonEl.style.display =\n",
              "          google.colab.kernel.accessAllowed ? 'block' : 'none';\n",
              "\n",
              "        async function convertToInteractive(key) {\n",
              "          const element = document.querySelector('#df-cb59568a-d0cc-4d6e-a2f6-2211006c713a');\n",
              "          const dataTable =\n",
              "            await google.colab.kernel.invokeFunction('convertToInteractive',\n",
              "                                                     [key], {});\n",
              "          if (!dataTable) return;\n",
              "\n",
              "          const docLinkHtml = 'Like what you see? Visit the ' +\n",
              "            '<a target=\"_blank\" href=https://colab.research.google.com/notebooks/data_table.ipynb>data table notebook</a>'\n",
              "            + ' to learn more about interactive tables.';\n",
              "          element.innerHTML = '';\n",
              "          dataTable['output_type'] = 'display_data';\n",
              "          await google.colab.output.renderOutput(dataTable, element);\n",
              "          const docLink = document.createElement('div');\n",
              "          docLink.innerHTML = docLinkHtml;\n",
              "          element.appendChild(docLink);\n",
              "        }\n",
              "      </script>\n",
              "    </div>\n",
              "  </div>\n",
              "  "
            ],
            "text/plain": [
              "     Item_Identifier  Item_Weight  ...        Outlet_Type  Item_Outlet_Sales\n",
              "0              FDA15        9.300  ...  Supermarket Type1          3735.1380\n",
              "1              DRC01        5.920  ...  Supermarket Type2           443.4228\n",
              "2              FDN15       17.500  ...  Supermarket Type1          2097.2700\n",
              "3              FDX07       19.200  ...      Grocery Store           732.3800\n",
              "4              NCD19        8.930  ...  Supermarket Type1           994.7052\n",
              "...              ...          ...  ...                ...                ...\n",
              "8518           FDF22        6.865  ...  Supermarket Type1          2778.3834\n",
              "8519           FDS36        8.380  ...  Supermarket Type1           549.2850\n",
              "8520           NCJ29       10.600  ...  Supermarket Type1          1193.1136\n",
              "8521           FDN46        7.210  ...  Supermarket Type2          1845.5976\n",
              "8522           DRG01       14.800  ...  Supermarket Type1           765.6700\n",
              "\n",
              "[8523 rows x 12 columns]"
            ]
          },
          "metadata": {},
          "execution_count": 105
        }
      ],
      "source": [
        "import pandas as pd\n",
        "import matplotlib.pyplot as plt\n",
        "import numpy as np\n",
        "filename = '/content/drive/My Drive/Coding_Dojo/Semana_02/sales_predictions.csv' # colocamos la ruta del archivo a importar\n",
        "df = pd.read_csv(filename) # colocamos el contenido del archivo en \"df\"\n",
        "df # imprimimos \"df\""
      ]
    },
    {
      "cell_type": "code",
      "source": [
        "tipo_item = df.groupby([\"Item_Type\"])[[\"Item_Outlet_Sales\"]].mean()\n",
        "tipo_item.head()\n",
        "tipo_item.info()"
      ],
      "metadata": {
        "colab": {
          "base_uri": "https://localhost:8080/"
        },
        "id": "8nf06JYIq8TE",
        "outputId": "6b29537c-0ff7-4836-a03b-b5be82375fb8"
      },
      "execution_count": 106,
      "outputs": [
        {
          "output_type": "stream",
          "name": "stdout",
          "text": [
            "<class 'pandas.core.frame.DataFrame'>\n",
            "Index: 16 entries, Baking Goods to Starchy Foods\n",
            "Data columns (total 1 columns):\n",
            " #   Column             Non-Null Count  Dtype  \n",
            "---  ------             --------------  -----  \n",
            " 0   Item_Outlet_Sales  16 non-null     float64\n",
            "dtypes: float64(1)\n",
            "memory usage: 256.0+ bytes\n"
          ]
        }
      ]
    },
    {
      "cell_type": "code",
      "source": [
        "sns.boxplot(x='Item_Type', y='Item_Outlet_Sales', data=df)"
      ],
      "metadata": {
        "colab": {
          "base_uri": "https://localhost:8080/",
          "height": 297
        },
        "id": "dRyBk9R2kPVH",
        "outputId": "84a15a4a-96ec-49be-c36a-45901a9cd7fe"
      },
      "execution_count": 107,
      "outputs": [
        {
          "output_type": "execute_result",
          "data": {
            "text/plain": [
              "<matplotlib.axes._subplots.AxesSubplot at 0x7fc287e29890>"
            ]
          },
          "metadata": {},
          "execution_count": 107
        },
        {
          "output_type": "display_data",
          "data": {
            "image/png": "[encoded data removed]",
            "text/plain": [
              "<Figure size 432x288 with 1 Axes>"
            ]
          },
          "metadata": {
            "needs_background": "light"
          }
        }
      ]
    },
    {
      "cell_type": "code",
      "source": [
        "tipo_item"
      ],
      "metadata": {
        "id": "upFUzbr8trSj",
        "colab": {
          "base_uri": "https://localhost:8080/",
          "height": 582
        },
        "outputId": "a7c16316-4c14-4440-bb72-e30b68b29f35"
      },
      "execution_count": 108,
      "outputs": [
        {
          "output_type": "execute_result",
          "data": {
            "text/html": [
              "\n",
              "  <div id=\"df-d39e6c53-3d98-4468-84c2-e8048d374c83\">\n",
              "    <div class=\"colab-df-container\">\n",
              "      <div>\n",
              "<style scoped>\n",
              "    .dataframe tbody tr th:only-of-type {\n",
              "        vertical-align: middle;\n",
              "    }\n",
              "\n",
              "    .dataframe tbody tr th {\n",
              "        vertical-align: top;\n",
              "    }\n",
              "\n",
              "    .dataframe thead th {\n",
              "        text-align: right;\n",
              "    }\n",
              "</style>\n",
              "<table border=\"1\" class=\"dataframe\">\n",
              "  <thead>\n",
              "    <tr style=\"text-align: right;\">\n",
              "      <th></th>\n",
              "      <th>Item_Outlet_Sales</th>\n",
              "    </tr>\n",
              "    <tr>\n",
              "      <th>Item_Type</th>\n",
              "      <th></th>\n",
              "    </tr>\n",
              "  </thead>\n",
              "  <tbody>\n",
              "    <tr>\n",
              "      <th>Baking Goods</th>\n",
              "      <td>1952.971207</td>\n",
              "    </tr>\n",
              "    <tr>\n",
              "      <th>Breads</th>\n",
              "      <td>2204.132226</td>\n",
              "    </tr>\n",
              "    <tr>\n",
              "      <th>Breakfast</th>\n",
              "      <td>2111.808651</td>\n",
              "    </tr>\n",
              "    <tr>\n",
              "      <th>Canned</th>\n",
              "      <td>2225.194904</td>\n",
              "    </tr>\n",
              "    <tr>\n",
              "      <th>Dairy</th>\n",
              "      <td>2232.542597</td>\n",
              "    </tr>\n",
              "    <tr>\n",
              "      <th>Frozen Foods</th>\n",
              "      <td>2132.867744</td>\n",
              "    </tr>\n",
              "    <tr>\n",
              "      <th>Fruits and Vegetables</th>\n",
              "      <td>2289.009592</td>\n",
              "    </tr>\n",
              "    <tr>\n",
              "      <th>Hard Drinks</th>\n",
              "      <td>2139.221622</td>\n",
              "    </tr>\n",
              "    <tr>\n",
              "      <th>Health and Hygiene</th>\n",
              "      <td>2010.000265</td>\n",
              "    </tr>\n",
              "    <tr>\n",
              "      <th>Household</th>\n",
              "      <td>2258.784300</td>\n",
              "    </tr>\n",
              "    <tr>\n",
              "      <th>Meat</th>\n",
              "      <td>2158.977911</td>\n",
              "    </tr>\n",
              "    <tr>\n",
              "      <th>Others</th>\n",
              "      <td>1926.139702</td>\n",
              "    </tr>\n",
              "    <tr>\n",
              "      <th>Seafood</th>\n",
              "      <td>2326.065928</td>\n",
              "    </tr>\n",
              "    <tr>\n",
              "      <th>Snack Foods</th>\n",
              "      <td>2277.321739</td>\n",
              "    </tr>\n",
              "    <tr>\n",
              "      <th>Soft Drinks</th>\n",
              "      <td>2006.511735</td>\n",
              "    </tr>\n",
              "    <tr>\n",
              "      <th>Starchy Foods</th>\n",
              "      <td>2374.332773</td>\n",
              "    </tr>\n",
              "  </tbody>\n",
              "</table>\n",
              "</div>\n",
              "      <button class=\"colab-df-convert\" onclick=\"convertToInteractive('df-d39e6c53-3d98-4468-84c2-e8048d374c83')\"\n",
              "              title=\"Convert this dataframe to an interactive table.\"\n",
              "              style=\"display:none;\">\n",
              "        \n",
              "  <svg xmlns=\"http://www.w3.org/2000/svg\" height=\"24px\"viewBox=\"0 0 24 24\"\n",
              "       width=\"24px\">\n",
              "    <path d=\"M0 0h24v24H0V0z\" fill=\"none\"/>\n",
              "    <path d=\"M18.56 5.44l.94 2.06.94-2.06 2.06-.94-2.06-.94-.94-2.06-.94 2.06-2.06.94zm-11 1L8.5 8.5l.94-2.06 2.06-.94-2.06-.94L8.5 2.5l-.94 2.06-2.06.94zm10 10l.94 2.06.94-2.06 2.06-.94-2.06-.94-.94-2.06-.94 2.06-2.06.94z\"/><path d=\"M17.41 7.96l-1.37-1.37c-.4-.4-.92-.59-1.43-.59-.52 0-1.04.2-1.43.59L10.3 9.45l-7.72 7.72c-.78.78-.78 2.05 0 2.83L4 21.41c.39.39.9.59 1.41.59.51 0 1.02-.2 1.41-.59l7.78-7.78 2.81-2.81c.8-.78.8-2.07 0-2.86zM5.41 20L4 18.59l7.72-7.72 1.47 1.35L5.41 20z\"/>\n",
              "  </svg>\n",
              "      </button>\n",
              "      \n",
              "  <style>\n",
              "    .colab-df-container {\n",
              "      display:flex;\n",
              "      flex-wrap:wrap;\n",
              "      gap: 12px;\n",
              "    }\n",
              "\n",
              "    .colab-df-convert {\n",
              "      background-color: #E8F0FE;\n",
              "      border: none;\n",
              "      border-radius: 50%;\n",
              "      cursor: pointer;\n",
              "      display: none;\n",
              "      fill: #1967D2;\n",
              "      height: 32px;\n",
              "      padding: 0 0 0 0;\n",
              "      width: 32px;\n",
              "    }\n",
              "\n",
              "    .colab-df-convert:hover {\n",
              "      background-color: #E2EBFA;\n",
              "      box-shadow: 0px 1px 2px rgba(60, 64, 67, 0.3), 0px 1px 3px 1px rgba(60, 64, 67, 0.15);\n",
              "      fill: #174EA6;\n",
              "    }\n",
              "\n",
              "    [theme=dark] .colab-df-convert {\n",
              "      background-color: #3B4455;\n",
              "      fill: #D2E3FC;\n",
              "    }\n",
              "\n",
              "    [theme=dark] .colab-df-convert:hover {\n",
              "      background-color: #434B5C;\n",
              "      box-shadow: 0px 1px 3px 1px rgba(0, 0, 0, 0.15);\n",
              "      filter: drop-shadow(0px 1px 2px rgba(0, 0, 0, 0.3));\n",
              "      fill: #FFFFFF;\n",
              "    }\n",
              "  </style>\n",
              "\n",
              "      <script>\n",
              "        const buttonEl =\n",
              "          document.querySelector('#df-d39e6c53-3d98-4468-84c2-e8048d374c83 button.colab-df-convert');\n",
              "        buttonEl.style.display =\n",
              "          google.colab.kernel.accessAllowed ? 'block' : 'none';\n",
              "\n",
              "        async function convertToInteractive(key) {\n",
              "          const element = document.querySelector('#df-d39e6c53-3d98-4468-84c2-e8048d374c83');\n",
              "          const dataTable =\n",
              "            await google.colab.kernel.invokeFunction('convertToInteractive',\n",
              "                                                     [key], {});\n",
              "          if (!dataTable) return;\n",
              "\n",
              "          const docLinkHtml = 'Like what you see? Visit the ' +\n",
              "            '<a target=\"_blank\" href=https://colab.research.google.com/notebooks/data_table.ipynb>data table notebook</a>'\n",
              "            + ' to learn more about interactive tables.';\n",
              "          element.innerHTML = '';\n",
              "          dataTable['output_type'] = 'display_data';\n",
              "          await google.colab.output.renderOutput(dataTable, element);\n",
              "          const docLink = document.createElement('div');\n",
              "          docLink.innerHTML = docLinkHtml;\n",
              "          element.appendChild(docLink);\n",
              "        }\n",
              "      </script>\n",
              "    </div>\n",
              "  </div>\n",
              "  "
            ],
            "text/plain": [
              "                       Item_Outlet_Sales\n",
              "Item_Type                               \n",
              "Baking Goods                 1952.971207\n",
              "Breads                       2204.132226\n",
              "Breakfast                    2111.808651\n",
              "Canned                       2225.194904\n",
              "Dairy                        2232.542597\n",
              "Frozen Foods                 2132.867744\n",
              "Fruits and Vegetables        2289.009592\n",
              "Hard Drinks                  2139.221622\n",
              "Health and Hygiene           2010.000265\n",
              "Household                    2258.784300\n",
              "Meat                         2158.977911\n",
              "Others                       1926.139702\n",
              "Seafood                      2326.065928\n",
              "Snack Foods                  2277.321739\n",
              "Soft Drinks                  2006.511735\n",
              "Starchy Foods                2374.332773"
            ]
          },
          "metadata": {},
          "execution_count": 108
        }
      ]
    },
    {
      "cell_type": "code",
      "source": [
        "# Observamos la información general de nuestros datos, se pueden ver datos faltantes en la columna 1 y 8.\n",
        "df.info()"
      ],
      "metadata": {
        "colab": {
          "base_uri": "https://localhost:8080/"
        },
        "id": "7hev3ywL43Qq",
        "outputId": "14b92a19-9b64-4428-9733-bf9abd95463a"
      },
      "execution_count": 109,
      "outputs": [
        {
          "output_type": "stream",
          "name": "stdout",
          "text": [
            "<class 'pandas.core.frame.DataFrame'>\n",
            "RangeIndex: 8523 entries, 0 to 8522\n",
            "Data columns (total 12 columns):\n",
            " #   Column                     Non-Null Count  Dtype  \n",
            "---  ------                     --------------  -----  \n",
            " 0   Item_Identifier            8523 non-null   object \n",
            " 1   Item_Weight                7060 non-null   float64\n",
            " 2   Item_Fat_Content           8523 non-null   object \n",
            " 3   Item_Visibility            8523 non-null   float64\n",
            " 4   Item_Type                  8523 non-null   object \n",
            " 5   Item_MRP                   8523 non-null   float64\n",
            " 6   Outlet_Identifier          8523 non-null   object \n",
            " 7   Outlet_Establishment_Year  8523 non-null   int64  \n",
            " 8   Outlet_Size                6113 non-null   object \n",
            " 9   Outlet_Location_Type       8523 non-null   object \n",
            " 10  Outlet_Type                8523 non-null   object \n",
            " 11  Item_Outlet_Sales          8523 non-null   float64\n",
            "dtypes: float64(4), int64(1), object(7)\n",
            "memory usage: 799.2+ KB\n"
          ]
        }
      ]
    },
    {
      "cell_type": "code",
      "source": [
        "df[df.Outlet_Size.isnull()]"
      ],
      "metadata": {
        "colab": {
          "base_uri": "https://localhost:8080/",
          "height": 644
        },
        "id": "bJT1Ody_tgKz",
        "outputId": "6c63bd9c-e258-4496-abcd-10cdd1085d5d"
      },
      "execution_count": 110,
      "outputs": [
        {
          "output_type": "execute_result",
          "data": {
            "text/html": [
              "\n",
              "  <div id=\"df-e9aa4919-696b-46e8-abb5-4b5bcdbd10d1\">\n",
              "    <div class=\"colab-df-container\">\n",
              "      <div>\n",
              "<style scoped>\n",
              "    .dataframe tbody tr th:only-of-type {\n",
              "        vertical-align: middle;\n",
              "    }\n",
              "\n",
              "    .dataframe tbody tr th {\n",
              "        vertical-align: top;\n",
              "    }\n",
              "\n",
              "    .dataframe thead th {\n",
              "        text-align: right;\n",
              "    }\n",
              "</style>\n",
              "<table border=\"1\" class=\"dataframe\">\n",
              "  <thead>\n",
              "    <tr style=\"text-align: right;\">\n",
              "      <th></th>\n",
              "      <th>Item_Identifier</th>\n",
              "      <th>Item_Weight</th>\n",
              "      <th>Item_Fat_Content</th>\n",
              "      <th>Item_Visibility</th>\n",
              "      <th>Item_Type</th>\n",
              "      <th>Item_MRP</th>\n",
              "      <th>Outlet_Identifier</th>\n",
              "      <th>Outlet_Establishment_Year</th>\n",
              "      <th>Outlet_Size</th>\n",
              "      <th>Outlet_Location_Type</th>\n",
              "      <th>Outlet_Type</th>\n",
              "      <th>Item_Outlet_Sales</th>\n",
              "    </tr>\n",
              "  </thead>\n",
              "  <tbody>\n",
              "    <tr>\n",
              "      <th>3</th>\n",
              "      <td>FDX07</td>\n",
              "      <td>19.200</td>\n",
              "      <td>Regular</td>\n",
              "      <td>0.000000</td>\n",
              "      <td>Fruits and Vegetables</td>\n",
              "      <td>182.0950</td>\n",
              "      <td>OUT010</td>\n",
              "      <td>1998</td>\n",
              "      <td>NaN</td>\n",
              "      <td>Tier 3</td>\n",
              "      <td>Grocery Store</td>\n",
              "      <td>732.3800</td>\n",
              "    </tr>\n",
              "    <tr>\n",
              "      <th>8</th>\n",
              "      <td>FDH17</td>\n",
              "      <td>16.200</td>\n",
              "      <td>Regular</td>\n",
              "      <td>0.016687</td>\n",
              "      <td>Frozen Foods</td>\n",
              "      <td>96.9726</td>\n",
              "      <td>OUT045</td>\n",
              "      <td>2002</td>\n",
              "      <td>NaN</td>\n",
              "      <td>Tier 2</td>\n",
              "      <td>Supermarket Type1</td>\n",
              "      <td>1076.5986</td>\n",
              "    </tr>\n",
              "    <tr>\n",
              "      <th>9</th>\n",
              "      <td>FDU28</td>\n",
              "      <td>19.200</td>\n",
              "      <td>Regular</td>\n",
              "      <td>0.094450</td>\n",
              "      <td>Frozen Foods</td>\n",
              "      <td>187.8214</td>\n",
              "      <td>OUT017</td>\n",
              "      <td>2007</td>\n",
              "      <td>NaN</td>\n",
              "      <td>Tier 2</td>\n",
              "      <td>Supermarket Type1</td>\n",
              "      <td>4710.5350</td>\n",
              "    </tr>\n",
              "    <tr>\n",
              "      <th>25</th>\n",
              "      <td>NCD06</td>\n",
              "      <td>13.000</td>\n",
              "      <td>Low Fat</td>\n",
              "      <td>0.099887</td>\n",
              "      <td>Household</td>\n",
              "      <td>45.9060</td>\n",
              "      <td>OUT017</td>\n",
              "      <td>2007</td>\n",
              "      <td>NaN</td>\n",
              "      <td>Tier 2</td>\n",
              "      <td>Supermarket Type1</td>\n",
              "      <td>838.9080</td>\n",
              "    </tr>\n",
              "    <tr>\n",
              "      <th>28</th>\n",
              "      <td>FDE51</td>\n",
              "      <td>5.925</td>\n",
              "      <td>Regular</td>\n",
              "      <td>0.161467</td>\n",
              "      <td>Dairy</td>\n",
              "      <td>45.5086</td>\n",
              "      <td>OUT010</td>\n",
              "      <td>1998</td>\n",
              "      <td>NaN</td>\n",
              "      <td>Tier 3</td>\n",
              "      <td>Grocery Store</td>\n",
              "      <td>178.4344</td>\n",
              "    </tr>\n",
              "    <tr>\n",
              "      <th>...</th>\n",
              "      <td>...</td>\n",
              "      <td>...</td>\n",
              "      <td>...</td>\n",
              "      <td>...</td>\n",
              "      <td>...</td>\n",
              "      <td>...</td>\n",
              "      <td>...</td>\n",
              "      <td>...</td>\n",
              "      <td>...</td>\n",
              "      <td>...</td>\n",
              "      <td>...</td>\n",
              "      <td>...</td>\n",
              "    </tr>\n",
              "    <tr>\n",
              "      <th>8502</th>\n",
              "      <td>NCH43</td>\n",
              "      <td>8.420</td>\n",
              "      <td>Low Fat</td>\n",
              "      <td>0.070712</td>\n",
              "      <td>Household</td>\n",
              "      <td>216.4192</td>\n",
              "      <td>OUT045</td>\n",
              "      <td>2002</td>\n",
              "      <td>NaN</td>\n",
              "      <td>Tier 2</td>\n",
              "      <td>Supermarket Type1</td>\n",
              "      <td>3020.0688</td>\n",
              "    </tr>\n",
              "    <tr>\n",
              "      <th>8508</th>\n",
              "      <td>FDW31</td>\n",
              "      <td>11.350</td>\n",
              "      <td>Regular</td>\n",
              "      <td>0.043246</td>\n",
              "      <td>Fruits and Vegetables</td>\n",
              "      <td>199.4742</td>\n",
              "      <td>OUT045</td>\n",
              "      <td>2002</td>\n",
              "      <td>NaN</td>\n",
              "      <td>Tier 2</td>\n",
              "      <td>Supermarket Type1</td>\n",
              "      <td>2587.9646</td>\n",
              "    </tr>\n",
              "    <tr>\n",
              "      <th>8509</th>\n",
              "      <td>FDG45</td>\n",
              "      <td>8.100</td>\n",
              "      <td>Low Fat</td>\n",
              "      <td>0.214306</td>\n",
              "      <td>Fruits and Vegetables</td>\n",
              "      <td>213.9902</td>\n",
              "      <td>OUT010</td>\n",
              "      <td>1998</td>\n",
              "      <td>NaN</td>\n",
              "      <td>Tier 3</td>\n",
              "      <td>Grocery Store</td>\n",
              "      <td>424.7804</td>\n",
              "    </tr>\n",
              "    <tr>\n",
              "      <th>8514</th>\n",
              "      <td>FDA01</td>\n",
              "      <td>15.000</td>\n",
              "      <td>Regular</td>\n",
              "      <td>0.054489</td>\n",
              "      <td>Canned</td>\n",
              "      <td>57.5904</td>\n",
              "      <td>OUT045</td>\n",
              "      <td>2002</td>\n",
              "      <td>NaN</td>\n",
              "      <td>Tier 2</td>\n",
              "      <td>Supermarket Type1</td>\n",
              "      <td>468.7232</td>\n",
              "    </tr>\n",
              "    <tr>\n",
              "      <th>8519</th>\n",
              "      <td>FDS36</td>\n",
              "      <td>8.380</td>\n",
              "      <td>Regular</td>\n",
              "      <td>0.046982</td>\n",
              "      <td>Baking Goods</td>\n",
              "      <td>108.1570</td>\n",
              "      <td>OUT045</td>\n",
              "      <td>2002</td>\n",
              "      <td>NaN</td>\n",
              "      <td>Tier 2</td>\n",
              "      <td>Supermarket Type1</td>\n",
              "      <td>549.2850</td>\n",
              "    </tr>\n",
              "  </tbody>\n",
              "</table>\n",
              "<p>2410 rows × 12 columns</p>\n",
              "</div>\n",
              "      <button class=\"colab-df-convert\" onclick=\"convertToInteractive('df-e9aa4919-696b-46e8-abb5-4b5bcdbd10d1')\"\n",
              "              title=\"Convert this dataframe to an interactive table.\"\n",
              "              style=\"display:none;\">\n",
              "        \n",
              "  <svg xmlns=\"http://www.w3.org/2000/svg\" height=\"24px\"viewBox=\"0 0 24 24\"\n",
              "       width=\"24px\">\n",
              "    <path d=\"M0 0h24v24H0V0z\" fill=\"none\"/>\n",
              "    <path d=\"M18.56 5.44l.94 2.06.94-2.06 2.06-.94-2.06-.94-.94-2.06-.94 2.06-2.06.94zm-11 1L8.5 8.5l.94-2.06 2.06-.94-2.06-.94L8.5 2.5l-.94 2.06-2.06.94zm10 10l.94 2.06.94-2.06 2.06-.94-2.06-.94-.94-2.06-.94 2.06-2.06.94z\"/><path d=\"M17.41 7.96l-1.37-1.37c-.4-.4-.92-.59-1.43-.59-.52 0-1.04.2-1.43.59L10.3 9.45l-7.72 7.72c-.78.78-.78 2.05 0 2.83L4 21.41c.39.39.9.59 1.41.59.51 0 1.02-.2 1.41-.59l7.78-7.78 2.81-2.81c.8-.78.8-2.07 0-2.86zM5.41 20L4 18.59l7.72-7.72 1.47 1.35L5.41 20z\"/>\n",
              "  </svg>\n",
              "      </button>\n",
              "      \n",
              "  <style>\n",
              "    .colab-df-container {\n",
              "      display:flex;\n",
              "      flex-wrap:wrap;\n",
              "      gap: 12px;\n",
              "    }\n",
              "\n",
              "    .colab-df-convert {\n",
              "      background-color: #E8F0FE;\n",
              "      border: none;\n",
              "      border-radius: 50%;\n",
              "      cursor: pointer;\n",
              "      display: none;\n",
              "      fill: #1967D2;\n",
              "      height: 32px;\n",
              "      padding: 0 0 0 0;\n",
              "      width: 32px;\n",
              "    }\n",
              "\n",
              "    .colab-df-convert:hover {\n",
              "      background-color: #E2EBFA;\n",
              "      box-shadow: 0px 1px 2px rgba(60, 64, 67, 0.3), 0px 1px 3px 1px rgba(60, 64, 67, 0.15);\n",
              "      fill: #174EA6;\n",
              "    }\n",
              "\n",
              "    [theme=dark] .colab-df-convert {\n",
              "      background-color: #3B4455;\n",
              "      fill: #D2E3FC;\n",
              "    }\n",
              "\n",
              "    [theme=dark] .colab-df-convert:hover {\n",
              "      background-color: #434B5C;\n",
              "      box-shadow: 0px 1px 3px 1px rgba(0, 0, 0, 0.15);\n",
              "      filter: drop-shadow(0px 1px 2px rgba(0, 0, 0, 0.3));\n",
              "      fill: #FFFFFF;\n",
              "    }\n",
              "  </style>\n",
              "\n",
              "      <script>\n",
              "        const buttonEl =\n",
              "          document.querySelector('#df-e9aa4919-696b-46e8-abb5-4b5bcdbd10d1 button.colab-df-convert');\n",
              "        buttonEl.style.display =\n",
              "          google.colab.kernel.accessAllowed ? 'block' : 'none';\n",
              "\n",
              "        async function convertToInteractive(key) {\n",
              "          const element = document.querySelector('#df-e9aa4919-696b-46e8-abb5-4b5bcdbd10d1');\n",
              "          const dataTable =\n",
              "            await google.colab.kernel.invokeFunction('convertToInteractive',\n",
              "                                                     [key], {});\n",
              "          if (!dataTable) return;\n",
              "\n",
              "          const docLinkHtml = 'Like what you see? Visit the ' +\n",
              "            '<a target=\"_blank\" href=https://colab.research.google.com/notebooks/data_table.ipynb>data table notebook</a>'\n",
              "            + ' to learn more about interactive tables.';\n",
              "          element.innerHTML = '';\n",
              "          dataTable['output_type'] = 'display_data';\n",
              "          await google.colab.output.renderOutput(dataTable, element);\n",
              "          const docLink = document.createElement('div');\n",
              "          docLink.innerHTML = docLinkHtml;\n",
              "          element.appendChild(docLink);\n",
              "        }\n",
              "      </script>\n",
              "    </div>\n",
              "  </div>\n",
              "  "
            ],
            "text/plain": [
              "     Item_Identifier  Item_Weight  ...        Outlet_Type  Item_Outlet_Sales\n",
              "3              FDX07       19.200  ...      Grocery Store           732.3800\n",
              "8              FDH17       16.200  ...  Supermarket Type1          1076.5986\n",
              "9              FDU28       19.200  ...  Supermarket Type1          4710.5350\n",
              "25             NCD06       13.000  ...  Supermarket Type1           838.9080\n",
              "28             FDE51        5.925  ...      Grocery Store           178.4344\n",
              "...              ...          ...  ...                ...                ...\n",
              "8502           NCH43        8.420  ...  Supermarket Type1          3020.0688\n",
              "8508           FDW31       11.350  ...  Supermarket Type1          2587.9646\n",
              "8509           FDG45        8.100  ...      Grocery Store           424.7804\n",
              "8514           FDA01       15.000  ...  Supermarket Type1           468.7232\n",
              "8519           FDS36        8.380  ...  Supermarket Type1           549.2850\n",
              "\n",
              "[2410 rows x 12 columns]"
            ]
          },
          "metadata": {},
          "execution_count": 110
        }
      ]
    },
    {
      "cell_type": "code",
      "source": [
        "df[df.Item_Weight.isnull()]"
      ],
      "metadata": {
        "id": "oYRLT7nV5P0n",
        "colab": {
          "base_uri": "https://localhost:8080/",
          "height": 644
        },
        "outputId": "9b766ec9-0056-48c9-b3b2-f09ab12c15a4"
      },
      "execution_count": 111,
      "outputs": [
        {
          "output_type": "execute_result",
          "data": {
            "text/html": [
              "\n",
              "  <div id=\"df-a761adcc-0170-4fbf-b3c7-a9ebdcaeed4b\">\n",
              "    <div class=\"colab-df-container\">\n",
              "      <div>\n",
              "<style scoped>\n",
              "    .dataframe tbody tr th:only-of-type {\n",
              "        vertical-align: middle;\n",
              "    }\n",
              "\n",
              "    .dataframe tbody tr th {\n",
              "        vertical-align: top;\n",
              "    }\n",
              "\n",
              "    .dataframe thead th {\n",
              "        text-align: right;\n",
              "    }\n",
              "</style>\n",
              "<table border=\"1\" class=\"dataframe\">\n",
              "  <thead>\n",
              "    <tr style=\"text-align: right;\">\n",
              "      <th></th>\n",
              "      <th>Item_Identifier</th>\n",
              "      <th>Item_Weight</th>\n",
              "      <th>Item_Fat_Content</th>\n",
              "      <th>Item_Visibility</th>\n",
              "      <th>Item_Type</th>\n",
              "      <th>Item_MRP</th>\n",
              "      <th>Outlet_Identifier</th>\n",
              "      <th>Outlet_Establishment_Year</th>\n",
              "      <th>Outlet_Size</th>\n",
              "      <th>Outlet_Location_Type</th>\n",
              "      <th>Outlet_Type</th>\n",
              "      <th>Item_Outlet_Sales</th>\n",
              "    </tr>\n",
              "  </thead>\n",
              "  <tbody>\n",
              "    <tr>\n",
              "      <th>7</th>\n",
              "      <td>FDP10</td>\n",
              "      <td>NaN</td>\n",
              "      <td>Low Fat</td>\n",
              "      <td>0.127470</td>\n",
              "      <td>Snack Foods</td>\n",
              "      <td>107.7622</td>\n",
              "      <td>OUT027</td>\n",
              "      <td>1985</td>\n",
              "      <td>Medium</td>\n",
              "      <td>Tier 3</td>\n",
              "      <td>Supermarket Type3</td>\n",
              "      <td>4022.7636</td>\n",
              "    </tr>\n",
              "    <tr>\n",
              "      <th>18</th>\n",
              "      <td>DRI11</td>\n",
              "      <td>NaN</td>\n",
              "      <td>Low Fat</td>\n",
              "      <td>0.034238</td>\n",
              "      <td>Hard Drinks</td>\n",
              "      <td>113.2834</td>\n",
              "      <td>OUT027</td>\n",
              "      <td>1985</td>\n",
              "      <td>Medium</td>\n",
              "      <td>Tier 3</td>\n",
              "      <td>Supermarket Type3</td>\n",
              "      <td>2303.6680</td>\n",
              "    </tr>\n",
              "    <tr>\n",
              "      <th>21</th>\n",
              "      <td>FDW12</td>\n",
              "      <td>NaN</td>\n",
              "      <td>Regular</td>\n",
              "      <td>0.035400</td>\n",
              "      <td>Baking Goods</td>\n",
              "      <td>144.5444</td>\n",
              "      <td>OUT027</td>\n",
              "      <td>1985</td>\n",
              "      <td>Medium</td>\n",
              "      <td>Tier 3</td>\n",
              "      <td>Supermarket Type3</td>\n",
              "      <td>4064.0432</td>\n",
              "    </tr>\n",
              "    <tr>\n",
              "      <th>23</th>\n",
              "      <td>FDC37</td>\n",
              "      <td>NaN</td>\n",
              "      <td>Low Fat</td>\n",
              "      <td>0.057557</td>\n",
              "      <td>Baking Goods</td>\n",
              "      <td>107.6938</td>\n",
              "      <td>OUT019</td>\n",
              "      <td>1985</td>\n",
              "      <td>Small</td>\n",
              "      <td>Tier 1</td>\n",
              "      <td>Grocery Store</td>\n",
              "      <td>214.3876</td>\n",
              "    </tr>\n",
              "    <tr>\n",
              "      <th>29</th>\n",
              "      <td>FDC14</td>\n",
              "      <td>NaN</td>\n",
              "      <td>Regular</td>\n",
              "      <td>0.072222</td>\n",
              "      <td>Canned</td>\n",
              "      <td>43.6454</td>\n",
              "      <td>OUT019</td>\n",
              "      <td>1985</td>\n",
              "      <td>Small</td>\n",
              "      <td>Tier 1</td>\n",
              "      <td>Grocery Store</td>\n",
              "      <td>125.8362</td>\n",
              "    </tr>\n",
              "    <tr>\n",
              "      <th>...</th>\n",
              "      <td>...</td>\n",
              "      <td>...</td>\n",
              "      <td>...</td>\n",
              "      <td>...</td>\n",
              "      <td>...</td>\n",
              "      <td>...</td>\n",
              "      <td>...</td>\n",
              "      <td>...</td>\n",
              "      <td>...</td>\n",
              "      <td>...</td>\n",
              "      <td>...</td>\n",
              "      <td>...</td>\n",
              "    </tr>\n",
              "    <tr>\n",
              "      <th>8485</th>\n",
              "      <td>DRK37</td>\n",
              "      <td>NaN</td>\n",
              "      <td>Low Fat</td>\n",
              "      <td>0.043792</td>\n",
              "      <td>Soft Drinks</td>\n",
              "      <td>189.0530</td>\n",
              "      <td>OUT027</td>\n",
              "      <td>1985</td>\n",
              "      <td>Medium</td>\n",
              "      <td>Tier 3</td>\n",
              "      <td>Supermarket Type3</td>\n",
              "      <td>6261.8490</td>\n",
              "    </tr>\n",
              "    <tr>\n",
              "      <th>8487</th>\n",
              "      <td>DRG13</td>\n",
              "      <td>NaN</td>\n",
              "      <td>Low Fat</td>\n",
              "      <td>0.037006</td>\n",
              "      <td>Soft Drinks</td>\n",
              "      <td>164.7526</td>\n",
              "      <td>OUT027</td>\n",
              "      <td>1985</td>\n",
              "      <td>Medium</td>\n",
              "      <td>Tier 3</td>\n",
              "      <td>Supermarket Type3</td>\n",
              "      <td>4111.3150</td>\n",
              "    </tr>\n",
              "    <tr>\n",
              "      <th>8488</th>\n",
              "      <td>NCN14</td>\n",
              "      <td>NaN</td>\n",
              "      <td>Low Fat</td>\n",
              "      <td>0.091473</td>\n",
              "      <td>Others</td>\n",
              "      <td>184.6608</td>\n",
              "      <td>OUT027</td>\n",
              "      <td>1985</td>\n",
              "      <td>Medium</td>\n",
              "      <td>Tier 3</td>\n",
              "      <td>Supermarket Type3</td>\n",
              "      <td>2756.4120</td>\n",
              "    </tr>\n",
              "    <tr>\n",
              "      <th>8490</th>\n",
              "      <td>FDU44</td>\n",
              "      <td>NaN</td>\n",
              "      <td>Regular</td>\n",
              "      <td>0.102296</td>\n",
              "      <td>Fruits and Vegetables</td>\n",
              "      <td>162.3552</td>\n",
              "      <td>OUT019</td>\n",
              "      <td>1985</td>\n",
              "      <td>Small</td>\n",
              "      <td>Tier 1</td>\n",
              "      <td>Grocery Store</td>\n",
              "      <td>487.3656</td>\n",
              "    </tr>\n",
              "    <tr>\n",
              "      <th>8504</th>\n",
              "      <td>NCN18</td>\n",
              "      <td>NaN</td>\n",
              "      <td>Low Fat</td>\n",
              "      <td>0.124111</td>\n",
              "      <td>Household</td>\n",
              "      <td>111.7544</td>\n",
              "      <td>OUT027</td>\n",
              "      <td>1985</td>\n",
              "      <td>Medium</td>\n",
              "      <td>Tier 3</td>\n",
              "      <td>Supermarket Type3</td>\n",
              "      <td>4138.6128</td>\n",
              "    </tr>\n",
              "  </tbody>\n",
              "</table>\n",
              "<p>1463 rows × 12 columns</p>\n",
              "</div>\n",
              "      <button class=\"colab-df-convert\" onclick=\"convertToInteractive('df-a761adcc-0170-4fbf-b3c7-a9ebdcaeed4b')\"\n",
              "              title=\"Convert this dataframe to an interactive table.\"\n",
              "              style=\"display:none;\">\n",
              "        \n",
              "  <svg xmlns=\"http://www.w3.org/2000/svg\" height=\"24px\"viewBox=\"0 0 24 24\"\n",
              "       width=\"24px\">\n",
              "    <path d=\"M0 0h24v24H0V0z\" fill=\"none\"/>\n",
              "    <path d=\"M18.56 5.44l.94 2.06.94-2.06 2.06-.94-2.06-.94-.94-2.06-.94 2.06-2.06.94zm-11 1L8.5 8.5l.94-2.06 2.06-.94-2.06-.94L8.5 2.5l-.94 2.06-2.06.94zm10 10l.94 2.06.94-2.06 2.06-.94-2.06-.94-.94-2.06-.94 2.06-2.06.94z\"/><path d=\"M17.41 7.96l-1.37-1.37c-.4-.4-.92-.59-1.43-.59-.52 0-1.04.2-1.43.59L10.3 9.45l-7.72 7.72c-.78.78-.78 2.05 0 2.83L4 21.41c.39.39.9.59 1.41.59.51 0 1.02-.2 1.41-.59l7.78-7.78 2.81-2.81c.8-.78.8-2.07 0-2.86zM5.41 20L4 18.59l7.72-7.72 1.47 1.35L5.41 20z\"/>\n",
              "  </svg>\n",
              "      </button>\n",
              "      \n",
              "  <style>\n",
              "    .colab-df-container {\n",
              "      display:flex;\n",
              "      flex-wrap:wrap;\n",
              "      gap: 12px;\n",
              "    }\n",
              "\n",
              "    .colab-df-convert {\n",
              "      background-color: #E8F0FE;\n",
              "      border: none;\n",
              "      border-radius: 50%;\n",
              "      cursor: pointer;\n",
              "      display: none;\n",
              "      fill: #1967D2;\n",
              "      height: 32px;\n",
              "      padding: 0 0 0 0;\n",
              "      width: 32px;\n",
              "    }\n",
              "\n",
              "    .colab-df-convert:hover {\n",
              "      background-color: #E2EBFA;\n",
              "      box-shadow: 0px 1px 2px rgba(60, 64, 67, 0.3), 0px 1px 3px 1px rgba(60, 64, 67, 0.15);\n",
              "      fill: #174EA6;\n",
              "    }\n",
              "\n",
              "    [theme=dark] .colab-df-convert {\n",
              "      background-color: #3B4455;\n",
              "      fill: #D2E3FC;\n",
              "    }\n",
              "\n",
              "    [theme=dark] .colab-df-convert:hover {\n",
              "      background-color: #434B5C;\n",
              "      box-shadow: 0px 1px 3px 1px rgba(0, 0, 0, 0.15);\n",
              "      filter: drop-shadow(0px 1px 2px rgba(0, 0, 0, 0.3));\n",
              "      fill: #FFFFFF;\n",
              "    }\n",
              "  </style>\n",
              "\n",
              "      <script>\n",
              "        const buttonEl =\n",
              "          document.querySelector('#df-a761adcc-0170-4fbf-b3c7-a9ebdcaeed4b button.colab-df-convert');\n",
              "        buttonEl.style.display =\n",
              "          google.colab.kernel.accessAllowed ? 'block' : 'none';\n",
              "\n",
              "        async function convertToInteractive(key) {\n",
              "          const element = document.querySelector('#df-a761adcc-0170-4fbf-b3c7-a9ebdcaeed4b');\n",
              "          const dataTable =\n",
              "            await google.colab.kernel.invokeFunction('convertToInteractive',\n",
              "                                                     [key], {});\n",
              "          if (!dataTable) return;\n",
              "\n",
              "          const docLinkHtml = 'Like what you see? Visit the ' +\n",
              "            '<a target=\"_blank\" href=https://colab.research.google.com/notebooks/data_table.ipynb>data table notebook</a>'\n",
              "            + ' to learn more about interactive tables.';\n",
              "          element.innerHTML = '';\n",
              "          dataTable['output_type'] = 'display_data';\n",
              "          await google.colab.output.renderOutput(dataTable, element);\n",
              "          const docLink = document.createElement('div');\n",
              "          docLink.innerHTML = docLinkHtml;\n",
              "          element.appendChild(docLink);\n",
              "        }\n",
              "      </script>\n",
              "    </div>\n",
              "  </div>\n",
              "  "
            ],
            "text/plain": [
              "     Item_Identifier  Item_Weight  ...        Outlet_Type  Item_Outlet_Sales\n",
              "7              FDP10          NaN  ...  Supermarket Type3          4022.7636\n",
              "18             DRI11          NaN  ...  Supermarket Type3          2303.6680\n",
              "21             FDW12          NaN  ...  Supermarket Type3          4064.0432\n",
              "23             FDC37          NaN  ...      Grocery Store           214.3876\n",
              "29             FDC14          NaN  ...      Grocery Store           125.8362\n",
              "...              ...          ...  ...                ...                ...\n",
              "8485           DRK37          NaN  ...  Supermarket Type3          6261.8490\n",
              "8487           DRG13          NaN  ...  Supermarket Type3          4111.3150\n",
              "8488           NCN14          NaN  ...  Supermarket Type3          2756.4120\n",
              "8490           FDU44          NaN  ...      Grocery Store           487.3656\n",
              "8504           NCN18          NaN  ...  Supermarket Type3          4138.6128\n",
              "\n",
              "[1463 rows x 12 columns]"
            ]
          },
          "metadata": {},
          "execution_count": 111
        }
      ]
    },
    {
      "cell_type": "code",
      "source": [
        "# De esta manera podemos ver las filas y columnas que tiene nuestra tabla.\n",
        "df.shape"
      ],
      "metadata": {
        "colab": {
          "base_uri": "https://localhost:8080/"
        },
        "id": "LpD5nTVolWts",
        "outputId": "f21c0931-0bdd-4e18-9400-0b34ff959474"
      },
      "execution_count": 112,
      "outputs": [
        {
          "output_type": "execute_result",
          "data": {
            "text/plain": [
              "(8523, 12)"
            ]
          },
          "metadata": {},
          "execution_count": 112
        }
      ]
    },
    {
      "cell_type": "code",
      "source": [
        "# De esta manera podemos saber las filas y columnas de la tabla si los valores faltantes de estas dos columnas coinciden en una misma fila.\n",
        "# Se puede ver que ningun valor faltante coincide en estas columnas en una misma fila\n",
        "df.dropna(subset=[\"Item_Weight\", \"Outlet_Size\"], how=\"all\").shape"
      ],
      "metadata": {
        "colab": {
          "base_uri": "https://localhost:8080/"
        },
        "id": "mEk0IeqJjk7O",
        "outputId": "151f8838-0b15-4f61-c992-c0e5f02a8625"
      },
      "execution_count": 113,
      "outputs": [
        {
          "output_type": "execute_result",
          "data": {
            "text/plain": [
              "(8523, 12)"
            ]
          },
          "metadata": {},
          "execution_count": 113
        }
      ]
    },
    {
      "cell_type": "code",
      "source": [
        "# Estas órdenes son momentaneas, en este caso nos deja ver cuantas filas y columnas nos quedarían si eliminamos las filas con valores faltantes.\n",
        "# Si elejimos trabajar solamente con los datos completos, estariamos dejando de lado el 45,44% de los datos\n",
        "df.dropna(subset=[\"Item_Weight\", \"Outlet_Size\"], how=\"any\").shape"
      ],
      "metadata": {
        "colab": {
          "base_uri": "https://localhost:8080/"
        },
        "id": "IYk2hUYimU59",
        "outputId": "b23caf16-4255-432d-994a-5bf3da82d427"
      },
      "execution_count": 114,
      "outputs": [
        {
          "output_type": "execute_result",
          "data": {
            "text/plain": [
              "(4650, 12)"
            ]
          },
          "metadata": {},
          "execution_count": 114
        }
      ]
    },
    {
      "cell_type": "code",
      "source": [
        "# Podemos observar el número valores presentes en la columna seleccionada.\n",
        "df['Item_Weight'].value_counts()"
      ],
      "metadata": {
        "colab": {
          "base_uri": "https://localhost:8080/"
        },
        "id": "vfPxp2njnvTc",
        "outputId": "54680b48-3764-4dcb-cbab-3b81808ad978"
      },
      "execution_count": 115,
      "outputs": [
        {
          "output_type": "execute_result",
          "data": {
            "text/plain": [
              "12.150    86\n",
              "17.600    82\n",
              "13.650    77\n",
              "11.800    76\n",
              "15.100    68\n",
              "          ..\n",
              "7.275      2\n",
              "7.685      1\n",
              "9.420      1\n",
              "6.520      1\n",
              "5.400      1\n",
              "Name: Item_Weight, Length: 415, dtype: int64"
            ]
          },
          "metadata": {},
          "execution_count": 115
        }
      ]
    },
    {
      "cell_type": "code",
      "source": [
        "# Podemos observar el número valores presentes en la columna seleccionada. El tamaño medio de las tiendas es mayor sin embargo las tiendas pequeñas también son numerosas\n",
        "df['Outlet_Size'].value_counts()"
      ],
      "metadata": {
        "colab": {
          "base_uri": "https://localhost:8080/"
        },
        "id": "mL9h_X8-pNhy",
        "outputId": "37d44461-00b5-4259-dec7-2f83f31c1c38"
      },
      "execution_count": 116,
      "outputs": [
        {
          "output_type": "execute_result",
          "data": {
            "text/plain": [
              "Medium    2793\n",
              "Small     2388\n",
              "High       932\n",
              "Name: Outlet_Size, dtype: int64"
            ]
          },
          "metadata": {},
          "execution_count": 116
        }
      ]
    },
    {
      "cell_type": "code",
      "source": [
        "# Me gustaría ver alguna relación entre el tamaño de la tienda y el tipo de tienda, pero no lo veo claro.\n",
        "# Pero creo que podría ser una opción puede ser agrupar las columnas y ver la mayor coincidencia.\n",
        "df['Outlet_Type'].value_counts()"
      ],
      "metadata": {
        "colab": {
          "base_uri": "https://localhost:8080/"
        },
        "id": "ryVBXlzJplDg",
        "outputId": "9ace6160-4635-4b97-f8e1-e7178bd199da"
      },
      "execution_count": 117,
      "outputs": [
        {
          "output_type": "execute_result",
          "data": {
            "text/plain": [
              "Supermarket Type1    5577\n",
              "Grocery Store        1083\n",
              "Supermarket Type3     935\n",
              "Supermarket Type2     928\n",
              "Name: Outlet_Type, dtype: int64"
            ]
          },
          "metadata": {},
          "execution_count": 117
        }
      ]
    },
    {
      "cell_type": "code",
      "source": [
        "# es función nos permite generar un vistazo de los valores \n",
        "# estadisticos de tipo descriptivo de cada columna, no toma en cuneta a las columnas con valores faltantes.\n",
        "df.describe()"
      ],
      "metadata": {
        "colab": {
          "base_uri": "https://localhost:8080/",
          "height": 300
        },
        "id": "3o175bA3xQGi",
        "outputId": "7abc8ed1-7354-49cf-cbea-1a574fb81411"
      },
      "execution_count": 118,
      "outputs": [
        {
          "output_type": "execute_result",
          "data": {
            "text/html": [
              "\n",
              "  <div id=\"df-a535d789-5a84-445e-b5e9-1e7745813b2b\">\n",
              "    <div class=\"colab-df-container\">\n",
              "      <div>\n",
              "<style scoped>\n",
              "    .dataframe tbody tr th:only-of-type {\n",
              "        vertical-align: middle;\n",
              "    }\n",
              "\n",
              "    .dataframe tbody tr th {\n",
              "        vertical-align: top;\n",
              "    }\n",
              "\n",
              "    .dataframe thead th {\n",
              "        text-align: right;\n",
              "    }\n",
              "</style>\n",
              "<table border=\"1\" class=\"dataframe\">\n",
              "  <thead>\n",
              "    <tr style=\"text-align: right;\">\n",
              "      <th></th>\n",
              "      <th>Item_Weight</th>\n",
              "      <th>Item_Visibility</th>\n",
              "      <th>Item_MRP</th>\n",
              "      <th>Outlet_Establishment_Year</th>\n",
              "      <th>Item_Outlet_Sales</th>\n",
              "    </tr>\n",
              "  </thead>\n",
              "  <tbody>\n",
              "    <tr>\n",
              "      <th>count</th>\n",
              "      <td>7060.000000</td>\n",
              "      <td>8523.000000</td>\n",
              "      <td>8523.000000</td>\n",
              "      <td>8523.000000</td>\n",
              "      <td>8523.000000</td>\n",
              "    </tr>\n",
              "    <tr>\n",
              "      <th>mean</th>\n",
              "      <td>12.857645</td>\n",
              "      <td>0.066132</td>\n",
              "      <td>140.992782</td>\n",
              "      <td>1997.831867</td>\n",
              "      <td>2181.288914</td>\n",
              "    </tr>\n",
              "    <tr>\n",
              "      <th>std</th>\n",
              "      <td>4.643456</td>\n",
              "      <td>0.051598</td>\n",
              "      <td>62.275067</td>\n",
              "      <td>8.371760</td>\n",
              "      <td>1706.499616</td>\n",
              "    </tr>\n",
              "    <tr>\n",
              "      <th>min</th>\n",
              "      <td>4.555000</td>\n",
              "      <td>0.000000</td>\n",
              "      <td>31.290000</td>\n",
              "      <td>1985.000000</td>\n",
              "      <td>33.290000</td>\n",
              "    </tr>\n",
              "    <tr>\n",
              "      <th>25%</th>\n",
              "      <td>8.773750</td>\n",
              "      <td>0.026989</td>\n",
              "      <td>93.826500</td>\n",
              "      <td>1987.000000</td>\n",
              "      <td>834.247400</td>\n",
              "    </tr>\n",
              "    <tr>\n",
              "      <th>50%</th>\n",
              "      <td>12.600000</td>\n",
              "      <td>0.053931</td>\n",
              "      <td>143.012800</td>\n",
              "      <td>1999.000000</td>\n",
              "      <td>1794.331000</td>\n",
              "    </tr>\n",
              "    <tr>\n",
              "      <th>75%</th>\n",
              "      <td>16.850000</td>\n",
              "      <td>0.094585</td>\n",
              "      <td>185.643700</td>\n",
              "      <td>2004.000000</td>\n",
              "      <td>3101.296400</td>\n",
              "    </tr>\n",
              "    <tr>\n",
              "      <th>max</th>\n",
              "      <td>21.350000</td>\n",
              "      <td>0.328391</td>\n",
              "      <td>266.888400</td>\n",
              "      <td>2009.000000</td>\n",
              "      <td>13086.964800</td>\n",
              "    </tr>\n",
              "  </tbody>\n",
              "</table>\n",
              "</div>\n",
              "      <button class=\"colab-df-convert\" onclick=\"convertToInteractive('df-a535d789-5a84-445e-b5e9-1e7745813b2b')\"\n",
              "              title=\"Convert this dataframe to an interactive table.\"\n",
              "              style=\"display:none;\">\n",
              "        \n",
              "  <svg xmlns=\"http://www.w3.org/2000/svg\" height=\"24px\"viewBox=\"0 0 24 24\"\n",
              "       width=\"24px\">\n",
              "    <path d=\"M0 0h24v24H0V0z\" fill=\"none\"/>\n",
              "    <path d=\"M18.56 5.44l.94 2.06.94-2.06 2.06-.94-2.06-.94-.94-2.06-.94 2.06-2.06.94zm-11 1L8.5 8.5l.94-2.06 2.06-.94-2.06-.94L8.5 2.5l-.94 2.06-2.06.94zm10 10l.94 2.06.94-2.06 2.06-.94-2.06-.94-.94-2.06-.94 2.06-2.06.94z\"/><path d=\"M17.41 7.96l-1.37-1.37c-.4-.4-.92-.59-1.43-.59-.52 0-1.04.2-1.43.59L10.3 9.45l-7.72 7.72c-.78.78-.78 2.05 0 2.83L4 21.41c.39.39.9.59 1.41.59.51 0 1.02-.2 1.41-.59l7.78-7.78 2.81-2.81c.8-.78.8-2.07 0-2.86zM5.41 20L4 18.59l7.72-7.72 1.47 1.35L5.41 20z\"/>\n",
              "  </svg>\n",
              "      </button>\n",
              "      \n",
              "  <style>\n",
              "    .colab-df-container {\n",
              "      display:flex;\n",
              "      flex-wrap:wrap;\n",
              "      gap: 12px;\n",
              "    }\n",
              "\n",
              "    .colab-df-convert {\n",
              "      background-color: #E8F0FE;\n",
              "      border: none;\n",
              "      border-radius: 50%;\n",
              "      cursor: pointer;\n",
              "      display: none;\n",
              "      fill: #1967D2;\n",
              "      height: 32px;\n",
              "      padding: 0 0 0 0;\n",
              "      width: 32px;\n",
              "    }\n",
              "\n",
              "    .colab-df-convert:hover {\n",
              "      background-color: #E2EBFA;\n",
              "      box-shadow: 0px 1px 2px rgba(60, 64, 67, 0.3), 0px 1px 3px 1px rgba(60, 64, 67, 0.15);\n",
              "      fill: #174EA6;\n",
              "    }\n",
              "\n",
              "    [theme=dark] .colab-df-convert {\n",
              "      background-color: #3B4455;\n",
              "      fill: #D2E3FC;\n",
              "    }\n",
              "\n",
              "    [theme=dark] .colab-df-convert:hover {\n",
              "      background-color: #434B5C;\n",
              "      box-shadow: 0px 1px 3px 1px rgba(0, 0, 0, 0.15);\n",
              "      filter: drop-shadow(0px 1px 2px rgba(0, 0, 0, 0.3));\n",
              "      fill: #FFFFFF;\n",
              "    }\n",
              "  </style>\n",
              "\n",
              "      <script>\n",
              "        const buttonEl =\n",
              "          document.querySelector('#df-a535d789-5a84-445e-b5e9-1e7745813b2b button.colab-df-convert');\n",
              "        buttonEl.style.display =\n",
              "          google.colab.kernel.accessAllowed ? 'block' : 'none';\n",
              "\n",
              "        async function convertToInteractive(key) {\n",
              "          const element = document.querySelector('#df-a535d789-5a84-445e-b5e9-1e7745813b2b');\n",
              "          const dataTable =\n",
              "            await google.colab.kernel.invokeFunction('convertToInteractive',\n",
              "                                                     [key], {});\n",
              "          if (!dataTable) return;\n",
              "\n",
              "          const docLinkHtml = 'Like what you see? Visit the ' +\n",
              "            '<a target=\"_blank\" href=https://colab.research.google.com/notebooks/data_table.ipynb>data table notebook</a>'\n",
              "            + ' to learn more about interactive tables.';\n",
              "          element.innerHTML = '';\n",
              "          dataTable['output_type'] = 'display_data';\n",
              "          await google.colab.output.renderOutput(dataTable, element);\n",
              "          const docLink = document.createElement('div');\n",
              "          docLink.innerHTML = docLinkHtml;\n",
              "          element.appendChild(docLink);\n",
              "        }\n",
              "      </script>\n",
              "    </div>\n",
              "  </div>\n",
              "  "
            ],
            "text/plain": [
              "       Item_Weight  ...  Item_Outlet_Sales\n",
              "count  7060.000000  ...        8523.000000\n",
              "mean     12.857645  ...        2181.288914\n",
              "std       4.643456  ...        1706.499616\n",
              "min       4.555000  ...          33.290000\n",
              "25%       8.773750  ...         834.247400\n",
              "50%      12.600000  ...        1794.331000\n",
              "75%      16.850000  ...        3101.296400\n",
              "max      21.350000  ...       13086.964800\n",
              "\n",
              "[8 rows x 5 columns]"
            ]
          },
          "metadata": {},
          "execution_count": 118
        }
      ]
    },
    {
      "cell_type": "code",
      "source": [
        "# Se crea la figura y los ejes con plt.subplots\n",
        "fig, ax = plt.subplots()\n",
        "# Grafico de la relación entre el tipo de tiendas y las ventas \n",
        "ax.bar(df['Outlet_Type'], df['Item_Outlet_Sales'])\n",
        "\n",
        "\n",
        "# Graficamos la imagen final\n",
        "plt.show()\n"
      ],
      "metadata": {
        "colab": {
          "base_uri": "https://localhost:8080/",
          "height": 265
        },
        "id": "SWpjIiS5IhC9",
        "outputId": "8a87062d-1270-4c60-c936-a41e6c0fea74"
      },
      "execution_count": 119,
      "outputs": [
        {
          "output_type": "display_data",
          "data": {
            "image/png": "[encoded data removed]",
            "text/plain": [
              "<Figure size 432x288 with 1 Axes>"
            ]
          },
          "metadata": {
            "needs_background": "light"
          }
        }
      ]
    },
    {
      "cell_type": "code",
      "source": [
        "df_media_item = df[\"Item_Weight\"].fillna(value=12.6, inplace=True)"
      ],
      "metadata": {
        "id": "O-PEBqAdGqYh"
      },
      "execution_count": 120,
      "outputs": []
    },
    {
      "cell_type": "code",
      "source": [
        "# Se crea la figura y los ejes con plt.subplots\n",
        "fig, ax = plt.subplots()\n",
        "# Grafico de la relación entre el tipo de tiendas y las ventas \n",
        "ax.bar(df['Outlet_Type'], df['Item_Weight'])\n",
        "\n",
        "\n",
        "# Graficamos la imagen final\n",
        "plt.show()"
      ],
      "metadata": {
        "colab": {
          "base_uri": "https://localhost:8080/",
          "height": 265
        },
        "id": "aAWjl3ulLvCt",
        "outputId": "d6215110-ef3f-4425-c89c-eecc997f568c"
      },
      "execution_count": 121,
      "outputs": [
        {
          "output_type": "display_data",
          "data": {
            "image/png": "[encoded data removed]",
            "text/plain": [
              "<Figure size 432x288 with 1 Axes>"
            ]
          },
          "metadata": {
            "needs_background": "light"
          }
        }
      ]
    },
    {
      "cell_type": "code",
      "source": [
        "df['Item_Weight'].hist()"
      ],
      "metadata": {
        "id": "f8agSnmsQfmW",
        "colab": {
          "base_uri": "https://localhost:8080/",
          "height": 282
        },
        "outputId": "849dc216-6e1c-4496-fac7-61224d1c6e81"
      },
      "execution_count": 122,
      "outputs": [
        {
          "output_type": "execute_result",
          "data": {
            "text/plain": [
              "<matplotlib.axes._subplots.AxesSubplot at 0x7fc28a278b10>"
            ]
          },
          "metadata": {},
          "execution_count": 122
        },
        {
          "output_type": "display_data",
          "data": {
            "image/png": "[encoded data removed]",
            "text/plain": [
              "<Figure size 432x288 with 1 Axes>"
            ]
          },
          "metadata": {
            "needs_background": "light"
          }
        }
      ]
    },
    {
      "cell_type": "code",
      "source": [
        "df['Outlet_Type'].hist()"
      ],
      "metadata": {
        "colab": {
          "base_uri": "https://localhost:8080/",
          "height": 282
        },
        "id": "UGV3xcqBkD1G",
        "outputId": "45e305cb-c43d-43f6-924c-361104fd234b"
      },
      "execution_count": 123,
      "outputs": [
        {
          "output_type": "execute_result",
          "data": {
            "text/plain": [
              "<matplotlib.axes._subplots.AxesSubplot at 0x7fc2878e7450>"
            ]
          },
          "metadata": {},
          "execution_count": 123
        },
        {
          "output_type": "display_data",
          "data": {
            "image/png": "[encoded data removed]",
            "text/plain": [
              "<Figure size 432x288 with 1 Axes>"
            ]
          },
          "metadata": {
            "needs_background": "light"
          }
        }
      ]
    },
    {
      "cell_type": "code",
      "source": [
        "df.head(1)"
      ],
      "metadata": {
        "colab": {
          "base_uri": "https://localhost:8080/",
          "height": 162
        },
        "id": "lMnGxgJvSBXz",
        "outputId": "d0a1c6ab-dc8e-4ee4-b5fc-0fba58ef2388"
      },
      "execution_count": 124,
      "outputs": [
        {
          "output_type": "execute_result",
          "data": {
            "text/html": [
              "\n",
              "  <div id=\"df-141811b1-422c-4c61-9df1-30c4b0c0e245\">\n",
              "    <div class=\"colab-df-container\">\n",
              "      <div>\n",
              "<style scoped>\n",
              "    .dataframe tbody tr th:only-of-type {\n",
              "        vertical-align: middle;\n",
              "    }\n",
              "\n",
              "    .dataframe tbody tr th {\n",
              "        vertical-align: top;\n",
              "    }\n",
              "\n",
              "    .dataframe thead th {\n",
              "        text-align: right;\n",
              "    }\n",
              "</style>\n",
              "<table border=\"1\" class=\"dataframe\">\n",
              "  <thead>\n",
              "    <tr style=\"text-align: right;\">\n",
              "      <th></th>\n",
              "      <th>Item_Identifier</th>\n",
              "      <th>Item_Weight</th>\n",
              "      <th>Item_Fat_Content</th>\n",
              "      <th>Item_Visibility</th>\n",
              "      <th>Item_Type</th>\n",
              "      <th>Item_MRP</th>\n",
              "      <th>Outlet_Identifier</th>\n",
              "      <th>Outlet_Establishment_Year</th>\n",
              "      <th>Outlet_Size</th>\n",
              "      <th>Outlet_Location_Type</th>\n",
              "      <th>Outlet_Type</th>\n",
              "      <th>Item_Outlet_Sales</th>\n",
              "    </tr>\n",
              "  </thead>\n",
              "  <tbody>\n",
              "    <tr>\n",
              "      <th>0</th>\n",
              "      <td>FDA15</td>\n",
              "      <td>9.3</td>\n",
              "      <td>Low Fat</td>\n",
              "      <td>0.016047</td>\n",
              "      <td>Dairy</td>\n",
              "      <td>249.8092</td>\n",
              "      <td>OUT049</td>\n",
              "      <td>1999</td>\n",
              "      <td>Medium</td>\n",
              "      <td>Tier 1</td>\n",
              "      <td>Supermarket Type1</td>\n",
              "      <td>3735.138</td>\n",
              "    </tr>\n",
              "  </tbody>\n",
              "</table>\n",
              "</div>\n",
              "      <button class=\"colab-df-convert\" onclick=\"convertToInteractive('df-141811b1-422c-4c61-9df1-30c4b0c0e245')\"\n",
              "              title=\"Convert this dataframe to an interactive table.\"\n",
              "              style=\"display:none;\">\n",
              "        \n",
              "  <svg xmlns=\"http://www.w3.org/2000/svg\" height=\"24px\"viewBox=\"0 0 24 24\"\n",
              "       width=\"24px\">\n",
              "    <path d=\"M0 0h24v24H0V0z\" fill=\"none\"/>\n",
              "    <path d=\"M18.56 5.44l.94 2.06.94-2.06 2.06-.94-2.06-.94-.94-2.06-.94 2.06-2.06.94zm-11 1L8.5 8.5l.94-2.06 2.06-.94-2.06-.94L8.5 2.5l-.94 2.06-2.06.94zm10 10l.94 2.06.94-2.06 2.06-.94-2.06-.94-.94-2.06-.94 2.06-2.06.94z\"/><path d=\"M17.41 7.96l-1.37-1.37c-.4-.4-.92-.59-1.43-.59-.52 0-1.04.2-1.43.59L10.3 9.45l-7.72 7.72c-.78.78-.78 2.05 0 2.83L4 21.41c.39.39.9.59 1.41.59.51 0 1.02-.2 1.41-.59l7.78-7.78 2.81-2.81c.8-.78.8-2.07 0-2.86zM5.41 20L4 18.59l7.72-7.72 1.47 1.35L5.41 20z\"/>\n",
              "  </svg>\n",
              "      </button>\n",
              "      \n",
              "  <style>\n",
              "    .colab-df-container {\n",
              "      display:flex;\n",
              "      flex-wrap:wrap;\n",
              "      gap: 12px;\n",
              "    }\n",
              "\n",
              "    .colab-df-convert {\n",
              "      background-color: #E8F0FE;\n",
              "      border: none;\n",
              "      border-radius: 50%;\n",
              "      cursor: pointer;\n",
              "      display: none;\n",
              "      fill: #1967D2;\n",
              "      height: 32px;\n",
              "      padding: 0 0 0 0;\n",
              "      width: 32px;\n",
              "    }\n",
              "\n",
              "    .colab-df-convert:hover {\n",
              "      background-color: #E2EBFA;\n",
              "      box-shadow: 0px 1px 2px rgba(60, 64, 67, 0.3), 0px 1px 3px 1px rgba(60, 64, 67, 0.15);\n",
              "      fill: #174EA6;\n",
              "    }\n",
              "\n",
              "    [theme=dark] .colab-df-convert {\n",
              "      background-color: #3B4455;\n",
              "      fill: #D2E3FC;\n",
              "    }\n",
              "\n",
              "    [theme=dark] .colab-df-convert:hover {\n",
              "      background-color: #434B5C;\n",
              "      box-shadow: 0px 1px 3px 1px rgba(0, 0, 0, 0.15);\n",
              "      filter: drop-shadow(0px 1px 2px rgba(0, 0, 0, 0.3));\n",
              "      fill: #FFFFFF;\n",
              "    }\n",
              "  </style>\n",
              "\n",
              "      <script>\n",
              "        const buttonEl =\n",
              "          document.querySelector('#df-141811b1-422c-4c61-9df1-30c4b0c0e245 button.colab-df-convert');\n",
              "        buttonEl.style.display =\n",
              "          google.colab.kernel.accessAllowed ? 'block' : 'none';\n",
              "\n",
              "        async function convertToInteractive(key) {\n",
              "          const element = document.querySelector('#df-141811b1-422c-4c61-9df1-30c4b0c0e245');\n",
              "          const dataTable =\n",
              "            await google.colab.kernel.invokeFunction('convertToInteractive',\n",
              "                                                     [key], {});\n",
              "          if (!dataTable) return;\n",
              "\n",
              "          const docLinkHtml = 'Like what you see? Visit the ' +\n",
              "            '<a target=\"_blank\" href=https://colab.research.google.com/notebooks/data_table.ipynb>data table notebook</a>'\n",
              "            + ' to learn more about interactive tables.';\n",
              "          element.innerHTML = '';\n",
              "          dataTable['output_type'] = 'display_data';\n",
              "          await google.colab.output.renderOutput(dataTable, element);\n",
              "          const docLink = document.createElement('div');\n",
              "          docLink.innerHTML = docLinkHtml;\n",
              "          element.appendChild(docLink);\n",
              "        }\n",
              "      </script>\n",
              "    </div>\n",
              "  </div>\n",
              "  "
            ],
            "text/plain": [
              "  Item_Identifier  Item_Weight  ...        Outlet_Type  Item_Outlet_Sales\n",
              "0           FDA15          9.3  ...  Supermarket Type1           3735.138\n",
              "\n",
              "[1 rows x 12 columns]"
            ]
          },
          "metadata": {},
          "execution_count": 124
        }
      ]
    },
    {
      "cell_type": "code",
      "source": [
        "df['Item_Type'].value_counts()"
      ],
      "metadata": {
        "colab": {
          "base_uri": "https://localhost:8080/"
        },
        "id": "Uhgp2oPvVWU6",
        "outputId": "1f12b50a-a509-4eaf-80f6-8669f185e758"
      },
      "execution_count": 125,
      "outputs": [
        {
          "output_type": "execute_result",
          "data": {
            "text/plain": [
              "Fruits and Vegetables    1232\n",
              "Snack Foods              1200\n",
              "Household                 910\n",
              "Frozen Foods              856\n",
              "Dairy                     682\n",
              "Canned                    649\n",
              "Baking Goods              648\n",
              "Health and Hygiene        520\n",
              "Soft Drinks               445\n",
              "Meat                      425\n",
              "Breads                    251\n",
              "Hard Drinks               214\n",
              "Others                    169\n",
              "Starchy Foods             148\n",
              "Breakfast                 110\n",
              "Seafood                    64\n",
              "Name: Item_Type, dtype: int64"
            ]
          },
          "metadata": {},
          "execution_count": 125
        }
      ]
    },
    {
      "cell_type": "code",
      "source": [
        "df['Outlet_Location_Type'].value_counts()"
      ],
      "metadata": {
        "colab": {
          "base_uri": "https://localhost:8080/"
        },
        "id": "zjqPTnHHVxVJ",
        "outputId": "71fdfe98-fa58-4c96-8897-3239659d7362"
      },
      "execution_count": 126,
      "outputs": [
        {
          "output_type": "execute_result",
          "data": {
            "text/plain": [
              "Tier 3    3350\n",
              "Tier 2    2785\n",
              "Tier 1    2388\n",
              "Name: Outlet_Location_Type, dtype: int64"
            ]
          },
          "metadata": {},
          "execution_count": 126
        }
      ]
    },
    {
      "cell_type": "code",
      "source": [
        "df['Outlet_Type'].value_counts()"
      ],
      "metadata": {
        "colab": {
          "base_uri": "https://localhost:8080/"
        },
        "id": "J8ydTCJ2ZiFe",
        "outputId": "98f16136-66cc-4415-8e2f-246a5a555e5a"
      },
      "execution_count": 127,
      "outputs": [
        {
          "output_type": "execute_result",
          "data": {
            "text/plain": [
              "Supermarket Type1    5577\n",
              "Grocery Store        1083\n",
              "Supermarket Type3     935\n",
              "Supermarket Type2     928\n",
              "Name: Outlet_Type, dtype: int64"
            ]
          },
          "metadata": {},
          "execution_count": 127
        }
      ]
    },
    {
      "cell_type": "code",
      "source": [
        "df.info()"
      ],
      "metadata": {
        "colab": {
          "base_uri": "https://localhost:8080/"
        },
        "id": "4k4AxLBkR-ot",
        "outputId": "ab63958b-0171-4c24-e210-ef4961a9a2a3"
      },
      "execution_count": 128,
      "outputs": [
        {
          "output_type": "stream",
          "name": "stdout",
          "text": [
            "<class 'pandas.core.frame.DataFrame'>\n",
            "RangeIndex: 8523 entries, 0 to 8522\n",
            "Data columns (total 12 columns):\n",
            " #   Column                     Non-Null Count  Dtype  \n",
            "---  ------                     --------------  -----  \n",
            " 0   Item_Identifier            8523 non-null   object \n",
            " 1   Item_Weight                8523 non-null   float64\n",
            " 2   Item_Fat_Content           8523 non-null   object \n",
            " 3   Item_Visibility            8523 non-null   float64\n",
            " 4   Item_Type                  8523 non-null   object \n",
            " 5   Item_MRP                   8523 non-null   float64\n",
            " 6   Outlet_Identifier          8523 non-null   object \n",
            " 7   Outlet_Establishment_Year  8523 non-null   int64  \n",
            " 8   Outlet_Size                6113 non-null   object \n",
            " 9   Outlet_Location_Type       8523 non-null   object \n",
            " 10  Outlet_Type                8523 non-null   object \n",
            " 11  Item_Outlet_Sales          8523 non-null   float64\n",
            "dtypes: float64(4), int64(1), object(7)\n",
            "memory usage: 799.2+ KB\n"
          ]
        }
      ]
    },
    {
      "cell_type": "code",
      "source": [
        "df.corr()"
      ],
      "metadata": {
        "colab": {
          "base_uri": "https://localhost:8080/",
          "height": 206
        },
        "id": "Dz3XPhhIRV4I",
        "outputId": "9c383c68-737d-453a-f1aa-c00c69c8dc27"
      },
      "execution_count": 129,
      "outputs": [
        {
          "output_type": "execute_result",
          "data": {
            "text/html": [
              "\n",
              "  <div id=\"df-1b391e46-c425-43ec-a3ec-8f9d7e443be0\">\n",
              "    <div class=\"colab-df-container\">\n",
              "      <div>\n",
              "<style scoped>\n",
              "    .dataframe tbody tr th:only-of-type {\n",
              "        vertical-align: middle;\n",
              "    }\n",
              "\n",
              "    .dataframe tbody tr th {\n",
              "        vertical-align: top;\n",
              "    }\n",
              "\n",
              "    .dataframe thead th {\n",
              "        text-align: right;\n",
              "    }\n",
              "</style>\n",
              "<table border=\"1\" class=\"dataframe\">\n",
              "  <thead>\n",
              "    <tr style=\"text-align: right;\">\n",
              "      <th></th>\n",
              "      <th>Item_Weight</th>\n",
              "      <th>Item_Visibility</th>\n",
              "      <th>Item_MRP</th>\n",
              "      <th>Outlet_Establishment_Year</th>\n",
              "      <th>Item_Outlet_Sales</th>\n",
              "    </tr>\n",
              "  </thead>\n",
              "  <tbody>\n",
              "    <tr>\n",
              "      <th>Item_Weight</th>\n",
              "      <td>1.000000</td>\n",
              "      <td>-0.014168</td>\n",
              "      <td>0.024951</td>\n",
              "      <td>0.007739</td>\n",
              "      <td>0.009693</td>\n",
              "    </tr>\n",
              "    <tr>\n",
              "      <th>Item_Visibility</th>\n",
              "      <td>-0.014168</td>\n",
              "      <td>1.000000</td>\n",
              "      <td>-0.001315</td>\n",
              "      <td>-0.074834</td>\n",
              "      <td>-0.128625</td>\n",
              "    </tr>\n",
              "    <tr>\n",
              "      <th>Item_MRP</th>\n",
              "      <td>0.024951</td>\n",
              "      <td>-0.001315</td>\n",
              "      <td>1.000000</td>\n",
              "      <td>0.005020</td>\n",
              "      <td>0.567574</td>\n",
              "    </tr>\n",
              "    <tr>\n",
              "      <th>Outlet_Establishment_Year</th>\n",
              "      <td>0.007739</td>\n",
              "      <td>-0.074834</td>\n",
              "      <td>0.005020</td>\n",
              "      <td>1.000000</td>\n",
              "      <td>-0.049135</td>\n",
              "    </tr>\n",
              "    <tr>\n",
              "      <th>Item_Outlet_Sales</th>\n",
              "      <td>0.009693</td>\n",
              "      <td>-0.128625</td>\n",
              "      <td>0.567574</td>\n",
              "      <td>-0.049135</td>\n",
              "      <td>1.000000</td>\n",
              "    </tr>\n",
              "  </tbody>\n",
              "</table>\n",
              "</div>\n",
              "      <button class=\"colab-df-convert\" onclick=\"convertToInteractive('df-1b391e46-c425-43ec-a3ec-8f9d7e443be0')\"\n",
              "              title=\"Convert this dataframe to an interactive table.\"\n",
              "              style=\"display:none;\">\n",
              "        \n",
              "  <svg xmlns=\"http://www.w3.org/2000/svg\" height=\"24px\"viewBox=\"0 0 24 24\"\n",
              "       width=\"24px\">\n",
              "    <path d=\"M0 0h24v24H0V0z\" fill=\"none\"/>\n",
              "    <path d=\"M18.56 5.44l.94 2.06.94-2.06 2.06-.94-2.06-.94-.94-2.06-.94 2.06-2.06.94zm-11 1L8.5 8.5l.94-2.06 2.06-.94-2.06-.94L8.5 2.5l-.94 2.06-2.06.94zm10 10l.94 2.06.94-2.06 2.06-.94-2.06-.94-.94-2.06-.94 2.06-2.06.94z\"/><path d=\"M17.41 7.96l-1.37-1.37c-.4-.4-.92-.59-1.43-.59-.52 0-1.04.2-1.43.59L10.3 9.45l-7.72 7.72c-.78.78-.78 2.05 0 2.83L4 21.41c.39.39.9.59 1.41.59.51 0 1.02-.2 1.41-.59l7.78-7.78 2.81-2.81c.8-.78.8-2.07 0-2.86zM5.41 20L4 18.59l7.72-7.72 1.47 1.35L5.41 20z\"/>\n",
              "  </svg>\n",
              "      </button>\n",
              "      \n",
              "  <style>\n",
              "    .colab-df-container {\n",
              "      display:flex;\n",
              "      flex-wrap:wrap;\n",
              "      gap: 12px;\n",
              "    }\n",
              "\n",
              "    .colab-df-convert {\n",
              "      background-color: #E8F0FE;\n",
              "      border: none;\n",
              "      border-radius: 50%;\n",
              "      cursor: pointer;\n",
              "      display: none;\n",
              "      fill: #1967D2;\n",
              "      height: 32px;\n",
              "      padding: 0 0 0 0;\n",
              "      width: 32px;\n",
              "    }\n",
              "\n",
              "    .colab-df-convert:hover {\n",
              "      background-color: #E2EBFA;\n",
              "      box-shadow: 0px 1px 2px rgba(60, 64, 67, 0.3), 0px 1px 3px 1px rgba(60, 64, 67, 0.15);\n",
              "      fill: #174EA6;\n",
              "    }\n",
              "\n",
              "    [theme=dark] .colab-df-convert {\n",
              "      background-color: #3B4455;\n",
              "      fill: #D2E3FC;\n",
              "    }\n",
              "\n",
              "    [theme=dark] .colab-df-convert:hover {\n",
              "      background-color: #434B5C;\n",
              "      box-shadow: 0px 1px 3px 1px rgba(0, 0, 0, 0.15);\n",
              "      filter: drop-shadow(0px 1px 2px rgba(0, 0, 0, 0.3));\n",
              "      fill: #FFFFFF;\n",
              "    }\n",
              "  </style>\n",
              "\n",
              "      <script>\n",
              "        const buttonEl =\n",
              "          document.querySelector('#df-1b391e46-c425-43ec-a3ec-8f9d7e443be0 button.colab-df-convert');\n",
              "        buttonEl.style.display =\n",
              "          google.colab.kernel.accessAllowed ? 'block' : 'none';\n",
              "\n",
              "        async function convertToInteractive(key) {\n",
              "          const element = document.querySelector('#df-1b391e46-c425-43ec-a3ec-8f9d7e443be0');\n",
              "          const dataTable =\n",
              "            await google.colab.kernel.invokeFunction('convertToInteractive',\n",
              "                                                     [key], {});\n",
              "          if (!dataTable) return;\n",
              "\n",
              "          const docLinkHtml = 'Like what you see? Visit the ' +\n",
              "            '<a target=\"_blank\" href=https://colab.research.google.com/notebooks/data_table.ipynb>data table notebook</a>'\n",
              "            + ' to learn more about interactive tables.';\n",
              "          element.innerHTML = '';\n",
              "          dataTable['output_type'] = 'display_data';\n",
              "          await google.colab.output.renderOutput(dataTable, element);\n",
              "          const docLink = document.createElement('div');\n",
              "          docLink.innerHTML = docLinkHtml;\n",
              "          element.appendChild(docLink);\n",
              "        }\n",
              "      </script>\n",
              "    </div>\n",
              "  </div>\n",
              "  "
            ],
            "text/plain": [
              "                           Item_Weight  ...  Item_Outlet_Sales\n",
              "Item_Weight                   1.000000  ...           0.009693\n",
              "Item_Visibility              -0.014168  ...          -0.128625\n",
              "Item_MRP                      0.024951  ...           0.567574\n",
              "Outlet_Establishment_Year     0.007739  ...          -0.049135\n",
              "Item_Outlet_Sales             0.009693  ...           1.000000\n",
              "\n",
              "[5 rows x 5 columns]"
            ]
          },
          "metadata": {},
          "execution_count": 129
        }
      ]
    },
    {
      "cell_type": "code",
      "source": [
        "df.head(1)"
      ],
      "metadata": {
        "colab": {
          "base_uri": "https://localhost:8080/",
          "height": 162
        },
        "id": "Y8kX6aqB6wh5",
        "outputId": "f278df0f-c9c9-43ec-b1f5-905a19ee1766"
      },
      "execution_count": 167,
      "outputs": [
        {
          "output_type": "execute_result",
          "data": {
            "text/html": [
              "\n",
              "  <div id=\"df-971daf09-96c0-4311-98aa-90a6a5fa13b2\">\n",
              "    <div class=\"colab-df-container\">\n",
              "      <div>\n",
              "<style scoped>\n",
              "    .dataframe tbody tr th:only-of-type {\n",
              "        vertical-align: middle;\n",
              "    }\n",
              "\n",
              "    .dataframe tbody tr th {\n",
              "        vertical-align: top;\n",
              "    }\n",
              "\n",
              "    .dataframe thead th {\n",
              "        text-align: right;\n",
              "    }\n",
              "</style>\n",
              "<table border=\"1\" class=\"dataframe\">\n",
              "  <thead>\n",
              "    <tr style=\"text-align: right;\">\n",
              "      <th></th>\n",
              "      <th>Item_Identifier</th>\n",
              "      <th>Item_Weight</th>\n",
              "      <th>Item_Fat_Content</th>\n",
              "      <th>Item_Visibility</th>\n",
              "      <th>Item_Type</th>\n",
              "      <th>Item_MRP</th>\n",
              "      <th>Outlet_Identifier</th>\n",
              "      <th>Outlet_Establishment_Year</th>\n",
              "      <th>Outlet_Size</th>\n",
              "      <th>Outlet_Location_Type</th>\n",
              "      <th>Outlet_Type</th>\n",
              "      <th>Item_Outlet_Sales</th>\n",
              "    </tr>\n",
              "  </thead>\n",
              "  <tbody>\n",
              "    <tr>\n",
              "      <th>0</th>\n",
              "      <td>FDA15</td>\n",
              "      <td>9.3</td>\n",
              "      <td>Low Fat</td>\n",
              "      <td>0.016047</td>\n",
              "      <td>Dairy</td>\n",
              "      <td>249.8092</td>\n",
              "      <td>OUT049</td>\n",
              "      <td>1999</td>\n",
              "      <td>Medium</td>\n",
              "      <td>Tier 1</td>\n",
              "      <td>Supermarket Type1</td>\n",
              "      <td>3735.138</td>\n",
              "    </tr>\n",
              "  </tbody>\n",
              "</table>\n",
              "</div>\n",
              "      <button class=\"colab-df-convert\" onclick=\"convertToInteractive('df-971daf09-96c0-4311-98aa-90a6a5fa13b2')\"\n",
              "              title=\"Convert this dataframe to an interactive table.\"\n",
              "              style=\"display:none;\">\n",
              "        \n",
              "  <svg xmlns=\"http://www.w3.org/2000/svg\" height=\"24px\"viewBox=\"0 0 24 24\"\n",
              "       width=\"24px\">\n",
              "    <path d=\"M0 0h24v24H0V0z\" fill=\"none\"/>\n",
              "    <path d=\"M18.56 5.44l.94 2.06.94-2.06 2.06-.94-2.06-.94-.94-2.06-.94 2.06-2.06.94zm-11 1L8.5 8.5l.94-2.06 2.06-.94-2.06-.94L8.5 2.5l-.94 2.06-2.06.94zm10 10l.94 2.06.94-2.06 2.06-.94-2.06-.94-.94-2.06-.94 2.06-2.06.94z\"/><path d=\"M17.41 7.96l-1.37-1.37c-.4-.4-.92-.59-1.43-.59-.52 0-1.04.2-1.43.59L10.3 9.45l-7.72 7.72c-.78.78-.78 2.05 0 2.83L4 21.41c.39.39.9.59 1.41.59.51 0 1.02-.2 1.41-.59l7.78-7.78 2.81-2.81c.8-.78.8-2.07 0-2.86zM5.41 20L4 18.59l7.72-7.72 1.47 1.35L5.41 20z\"/>\n",
              "  </svg>\n",
              "      </button>\n",
              "      \n",
              "  <style>\n",
              "    .colab-df-container {\n",
              "      display:flex;\n",
              "      flex-wrap:wrap;\n",
              "      gap: 12px;\n",
              "    }\n",
              "\n",
              "    .colab-df-convert {\n",
              "      background-color: #E8F0FE;\n",
              "      border: none;\n",
              "      border-radius: 50%;\n",
              "      cursor: pointer;\n",
              "      display: none;\n",
              "      fill: #1967D2;\n",
              "      height: 32px;\n",
              "      padding: 0 0 0 0;\n",
              "      width: 32px;\n",
              "    }\n",
              "\n",
              "    .colab-df-convert:hover {\n",
              "      background-color: #E2EBFA;\n",
              "      box-shadow: 0px 1px 2px rgba(60, 64, 67, 0.3), 0px 1px 3px 1px rgba(60, 64, 67, 0.15);\n",
              "      fill: #174EA6;\n",
              "    }\n",
              "\n",
              "    [theme=dark] .colab-df-convert {\n",
              "      background-color: #3B4455;\n",
              "      fill: #D2E3FC;\n",
              "    }\n",
              "\n",
              "    [theme=dark] .colab-df-convert:hover {\n",
              "      background-color: #434B5C;\n",
              "      box-shadow: 0px 1px 3px 1px rgba(0, 0, 0, 0.15);\n",
              "      filter: drop-shadow(0px 1px 2px rgba(0, 0, 0, 0.3));\n",
              "      fill: #FFFFFF;\n",
              "    }\n",
              "  </style>\n",
              "\n",
              "      <script>\n",
              "        const buttonEl =\n",
              "          document.querySelector('#df-971daf09-96c0-4311-98aa-90a6a5fa13b2 button.colab-df-convert');\n",
              "        buttonEl.style.display =\n",
              "          google.colab.kernel.accessAllowed ? 'block' : 'none';\n",
              "\n",
              "        async function convertToInteractive(key) {\n",
              "          const element = document.querySelector('#df-971daf09-96c0-4311-98aa-90a6a5fa13b2');\n",
              "          const dataTable =\n",
              "            await google.colab.kernel.invokeFunction('convertToInteractive',\n",
              "                                                     [key], {});\n",
              "          if (!dataTable) return;\n",
              "\n",
              "          const docLinkHtml = 'Like what you see? Visit the ' +\n",
              "            '<a target=\"_blank\" href=https://colab.research.google.com/notebooks/data_table.ipynb>data table notebook</a>'\n",
              "            + ' to learn more about interactive tables.';\n",
              "          element.innerHTML = '';\n",
              "          dataTable['output_type'] = 'display_data';\n",
              "          await google.colab.output.renderOutput(dataTable, element);\n",
              "          const docLink = document.createElement('div');\n",
              "          docLink.innerHTML = docLinkHtml;\n",
              "          element.appendChild(docLink);\n",
              "        }\n",
              "      </script>\n",
              "    </div>\n",
              "  </div>\n",
              "  "
            ],
            "text/plain": [
              "  Item_Identifier  Item_Weight  ...        Outlet_Type  Item_Outlet_Sales\n",
              "0           FDA15          9.3  ...  Supermarket Type1           3735.138\n",
              "\n",
              "[1 rows x 12 columns]"
            ]
          },
          "metadata": {},
          "execution_count": 167
        }
      ]
    },
    {
      "cell_type": "code",
      "source": [
        "df.info()"
      ],
      "metadata": {
        "colab": {
          "base_uri": "https://localhost:8080/"
        },
        "id": "EfN-7O93-GRC",
        "outputId": "f4d71457-7b16-44ed-96aa-924d0d8e73bf"
      },
      "execution_count": 203,
      "outputs": [
        {
          "output_type": "stream",
          "name": "stdout",
          "text": [
            "<class 'pandas.core.frame.DataFrame'>\n",
            "RangeIndex: 8523 entries, 0 to 8522\n",
            "Data columns (total 12 columns):\n",
            " #   Column                     Non-Null Count  Dtype  \n",
            "---  ------                     --------------  -----  \n",
            " 0   Item_Identifier            8523 non-null   object \n",
            " 1   Item_Weight                8523 non-null   float64\n",
            " 2   Item_Fat_Content           8523 non-null   object \n",
            " 3   Item_Visibility            8523 non-null   float64\n",
            " 4   Item_Type                  8523 non-null   object \n",
            " 5   Item_MRP                   8523 non-null   float64\n",
            " 6   Outlet_Identifier          8523 non-null   object \n",
            " 7   Outlet_Establishment_Year  8523 non-null   int64  \n",
            " 8   Outlet_Size                6113 non-null   object \n",
            " 9   Outlet_Location_Type       8523 non-null   object \n",
            " 10  Outlet_Type                8523 non-null   object \n",
            " 11  Item_Outlet_Sales          8523 non-null   float64\n",
            "dtypes: float64(4), int64(1), object(7)\n",
            "memory usage: 799.2+ KB\n"
          ]
        }
      ]
    },
    {
      "cell_type": "code",
      "source": [
        "# Un mapa de calor puede facilitar (en teoría) la lectura de la matriz de correlación\n",
        "sns.heatmap(df.corr().sort_values(by = ['Item_Outlet_Sales']), annot=True, cmap = sns.diverging_palette(240, 10, n=9))"
      ],
      "metadata": {
        "colab": {
          "base_uri": "https://localhost:8080/",
          "height": 409
        },
        "id": "M8aExqEXTkoF",
        "outputId": "dcb6d941-e684-4176-a0e9-e643d279fb0b"
      },
      "execution_count": 130,
      "outputs": [
        {
          "output_type": "execute_result",
          "data": {
            "text/plain": [
              "<matplotlib.axes._subplots.AxesSubplot at 0x7fc287af0190>"
            ]
          },
          "metadata": {},
          "execution_count": 130
        },
        {
          "output_type": "display_data",
          "data": {
            "image/png": "[encoded data removed]",
            "text/plain": [
              "<Figure size 432x288 with 2 Axes>"
            ]
          },
          "metadata": {
            "needs_background": "light"
          }
        }
      ]
    },
    {
      "cell_type": "markdown",
      "source": [
        "# Ejercicio KNN"
      ],
      "metadata": {
        "id": "d1czvPvqL4MN"
      }
    },
    {
      "cell_type": "markdown",
      "source": [
        "# Definir el dataset para el algoritmo KNN, transformando valores categoricos.\n",
        "## Me parece al ver el mapa de calor que el precio de mayorista tiene una correlación alta, sin embargo las columnas con valorescategóricos no nos permiten ver las correlaciones existentes,por lo tanto se puede transformar estos valores para ver su relación y después entrenar al algoritmo."
      ],
      "metadata": {
        "id": "KHVAvaU_dzRP"
      }
    },
    {
      "cell_type": "code",
      "source": [
        "# Coloco las variables que me interesan para mi modelo\n",
        "categoria_prod = df['Item_Type']\n",
        "locacion_tienda = df['Outlet_Location_Type']\n",
        "tipo_tienda = df['Outlet_Type']\n",
        "ventas = df['Item_Outlet_Sales'].astype(int)\n",
        "mrp = df['Item_MRP'].astype(int)\n",
        "ventas_array= list(ventas.values)"
      ],
      "metadata": {
        "id": "T5hUP10dOlpv"
      },
      "execution_count": 160,
      "outputs": []
    },
    {
      "cell_type": "code",
      "source": [
        "print(ventas_array)"
      ],
      "metadata": {
        "colab": {
          "base_uri": "https://localhost:8080/"
        },
        "id": "XBsB-_XGscZx",
        "outputId": "01b6dc74-db40-4ec1-d8c5-4d680c629dc9"
      },
      "execution_count": 132,
      "outputs": [
        {
          "output_type": "stream",
          "name": "stdout",
          "text": [
            "[3735, 443, 2097, 732, 994, 556, 343, 4022, 1076, 4710, 1516, 2187, 1589, 2145, 1977, 1547, 1621, 718, 2303, 2748, 3775, 4064, 1587, 214, 4078, 838, 1065, 308, 178, 125, 163, 2741, 3068, 2174, 2085, 3791, 2797, 1609, 388, 2180, 3435, 2150, 2527, 6768, 373, 358, 2428, 5815, 2576, 780, 3134, 850, 810, 3121, 4815, 6258, 2117, 796, 4910, 892, 3185, 1062, 484, 147, 2543, 184, 4865, 1118, 2302, 2027, 3435, 599, 4604, 2285, 5580, 2290, 1207, 643, 1587, 5305, 1697, 1427, 4693, 583, 3091, 2479, 2716, 3285, 661, 1523, 369, 690, 1381, 622, 1274, 487, 1231, 3755, 4363, 1314, 1805, 2854, 3896, 667, 3185, 2247, 1794, 2530, 679, 812, 699, 2732, 176, 4097, 3151, 5942, 4843, 2542, 2552, 1141, 680, 2085, 186, 3036, 866, 868, 1137, 928, 762, 707, 7968, 1438, 6976, 101, 952, 1969, 5262, 1314, 535, 263, 1402, 1693, 2143, 2676, 905, 7370, 6301, 1597, 529, 1969, 1034, 1794, 2768, 898, 3169, 3589, 262, 1910, 1701, 2471, 1331, 1808, 3315, 2618, 2769, 5375, 2838, 1743, 5555, 619, 2120, 3823, 1360, 3969, 345, 585, 1010, 161, 42, 3010, 6024, 988, 239, 1374, 4739, 1012, 657, 778, 2336, 2233, 1661, 4745, 3124, 467, 5070, 540, 992, 6008, 2105, 5359, 745, 3275, 1701, 6704, 4119, 327, 780, 3630, 317, 231, 133, 5650, 2636, 1272, 324, 131, 260, 260, 3690, 1139, 1995, 1416, 265, 3552, 2406, 213, 2956, 153, 1649, 3101, 4769, 3435, 1133, 2603, 605, 2293, 119, 1929, 2074, 241, 6795, 639, 3248, 7222, 3225, 3755, 3440, 974, 535, 5259, 306, 1779, 759, 1877, 3779, 41, 259, 193, 1687, 4655, 4950, 1418, 1225, 5359, 1764, 2553, 1006, 1081, 308, 2516, 1428, 2093, 1929, 5829, 2082, 7298, 7452, 450, 500, 3668, 736, 6088, 2125, 2277, 573, 2267, 296, 559, 5559, 1237, 569, 3866, 1379, 1869, 5499, 925, 583, 1418, 942, 2364, 3251, 254, 5895, 1134, 7696, 2775, 5317, 874, 1039, 3038, 3848, 527, 2390, 1677, 801, 1267, 886, 452, 3877, 4414, 5448, 4950, 958, 1956, 2404, 387, 994, 1754, 3340, 3918, 306, 4278, 4425, 9267, 229, 2055, 3339, 6410, 1992, 2870, 2807, 539, 4377, 2716, 383, 703, 1937, 3307, 3142, 2554, 1869, 5494, 6093, 2586, 1255, 4093, 3163, 5033, 1137, 2696, 898, 2756, 878, 659, 182, 3610, 5153, 2588, 1286, 1230, 1733, 384, 3969, 7763, 809, 1253, 5715, 1464, 3251, 4274, 5375, 1318, 2251, 1176, 3523, 610, 1237, 474, 717, 2580, 2552, 3914, 796, 916, 3259, 1677, 3707, 2954, 2652, 1037, 717, 426, 6911, 3811, 2277, 48, 5770, 690, 1890, 3195, 1504, 711, 4311, 521, 829, 1571, 2403, 83, 844, 2940, 291, 3259, 3415, 5624, 6687, 5642, 4943, 3135, 796, 848, 38, 4997, 588, 372, 155, 3038, 1587, 687, 1929, 3600, 2181, 3428, 623, 2133, 3401, 1289, 50, 790, 3147, 2486, 1139, 1816, 199, 978, 2683, 2897, 9158, 1957, 1296, 2528, 284, 759, 1787, 2431, 4466, 2048, 1940, 2067, 2663, 1146, 3448, 1665, 8114, 1713, 810, 1193, 856, 165, 1057, 2205, 2940, 3046, 3327, 520, 2999, 2113, 942, 75, 1581, 37, 151, 3486, 4262, 731, 1398, 2336, 2348, 7094, 1054, 1298, 2330, 4584, 527, 1869, 2876, 407, 2189, 1603, 2013, 95, 774, 2403, 4380, 219, 729, 1393, 5262, 372, 3273, 5344, 303, 314, 276, 721, 3467, 5416, 283, 323, 5206, 2503, 1960, 370, 95, 3299, 2684, 2085, 2210, 2187, 1049, 2719, 56, 231, 5734, 1398, 1531, 319, 633, 1014, 2094, 2386, 780, 1693, 334, 1342, 4916, 1757, 1637, 1747, 2876, 1966, 958, 81, 1238, 319, 4418, 2863, 1845, 1561, 3848, 2097, 639, 559, 2770, 295, 37, 1267, 353, 1118, 4655, 1547, 1045, 275, 2735, 347, 3817, 1905, 665, 2324, 3205, 2101, 1821, 3643, 2942, 587, 2886, 2223, 487, 5770, 1414, 5502, 2181, 1565, 1054, 1667, 2812, 489, 2865, 1665, 2694, 1555, 3836, 543, 1950, 177, 1035, 949, 1283, 484, 934, 534, 878, 1332, 3560, 647, 4993, 1691, 1695, 4042, 4763, 1640, 1288, 2334, 2207, 437, 2370, 5087, 103, 4697, 2406, 5736, 7192, 6611, 3246, 1262, 1758, 4672, 3775, 2478, 3067, 3281, 1086, 229, 1528, 1990, 868, 1230, 938, 4194, 1166, 5764, 113, 7443, 3057, 3579, 1522, 450, 607, 1325, 1270, 1107, 3542, 1534, 1308, 1471, 1239, 3896, 1496, 3460, 2870, 1259, 177, 798, 3185, 1488, 5159, 5954, 4500, 121, 4318, 3456, 1659, 759, 4974, 1707, 7488, 2488, 2816, 2954, 761, 593, 1298, 1150, 3072, 3259, 2756, 2930, 97, 1544, 3165, 1619, 387, 415, 226, 1267, 1593, 585, 3745, 1810, 2358, 145, 554, 3499, 1780, 2566, 1230, 918, 3079, 744, 716, 5113, 886, 1039, 4554, 1807, 2665, 1751, 2626, 1470, 4362, 4476, 2241, 4733, 258, 3174, 2924, 960, 539, 2041, 996, 1757, 1842, 3435, 1402, 7833, 1221, 669, 1061, 2874, 4592, 419, 5163, 323, 1265, 622, 1125, 5198, 379, 2432, 1657, 3006, 2287, 1687, 3237, 2746, 1331, 607, 857, 4287, 1773, 597, 441, 1431, 2860, 3364, 1757, 966, 1958, 129, 365, 1783, 2790, 2328, 2822, 2045, 505, 3095, 5141, 808, 2665, 2588, 1108, 1304, 331, 3235, 3089, 3355, 2037, 1867, 898, 7759, 2848, 2868, 3617, 5243, 2109, 721, 1203, 1868, 322, 3942, 3195, 3338, 4086, 1856, 1380, 1267, 5182, 147, 58, 5367, 1358, 5976, 2251, 181, 5443, 1547, 145, 5063, 3067, 2857, 1406, 178, 1470, 2896, 6515, 996, 948, 87, 1178, 565, 2137, 547, 2691, 3057, 588, 978, 2356, 3086, 461, 2696, 1649, 126, 2014, 1707, 932, 2157, 4643, 1280, 2366, 886, 958, 1150, 2641, 1547, 619, 2808, 2266, 1929, 1054, 1155, 1174, 3412, 300, 387, 2942, 4098, 452, 3211, 2620, 1414, 1565, 1043, 3115, 729, 2956, 527, 1058, 1320, 3047, 1725, 143, 446, 585, 6331, 1853, 2247, 33, 445, 657, 223, 727, 218, 2665, 591, 2311, 7017, 895, 4655, 198, 451, 50, 615, 876, 2454, 251, 4102, 2696, 1569, 189, 3099, 743, 1611, 1215, 367, 3150, 7370, 2954, 643, 89, 4940, 735, 1170, 1135, 3823, 1549, 114, 1033, 4561, 2416, 2133, 1482, 2892, 984, 745, 1323, 1547, 647, 1798, 1973, 1737, 1864, 1516, 5060, 2157, 5400, 5469, 174, 1278, 1917, 1017, 1998, 615, 314, 123, 1020, 1222, 474, 1506, 762, 1277, 3547, 6042, 384, 1223, 2182, 1478, 1418, 5061, 2888, 5518, 741, 9133, 1857, 2836, 2982, 167, 1150, 9275, 5038, 2115, 1885, 703, 2656, 713, 1691, 2157, 2561, 2059, 1334, 10236, 692, 1488, 6622, 3139, 1614, 585, 5602, 703, 1012, 3131, 258, 4027, 352, 2418, 2061, 146, 4207, 830, 145, 1198, 87, 1960, 2929, 2253, 75, 2190, 1693, 3661, 862, 1850, 6351, 3542, 3611, 7152, 6048, 2187, 759, 1451, 958, 1808, 1099, 1810, 2311, 1330, 1418, 2874, 2345, 3912, 1274, 5712, 5390, 1160, 5510, 568, 179, 143, 2633, 6183, 2702, 4843, 952, 1985, 2061, 1025, 3013, 809, 623, 1088, 217, 2931, 4555, 490, 1584, 782, 5778, 5173, 4420, 1522, 932, 1006, 1765, 2503, 7296, 2684, 2163, 3383, 2241, 3415, 5259, 1957, 5353, 4832, 1450, 5350, 2934, 360, 708, 2220, 1606, 868, 2237, 705, 1544, 6767, 1078, 4029, 1018, 3700, 2024, 767, 1482, 593, 1125, 1570, 2141, 2157, 3428, 6872, 1506, 174, 122, 211, 1901, 2684, 294, 1139, 1012, 1966, 7472, 2399, 1637, 1350, 3747, 1593, 261, 4889, 805, 1438, 1146, 1171, 3038, 2277, 2008, 649, 4364, 1821, 708, 3048, 1443, 153, 3129, 509, 3486, 1341, 4819, 759, 659, 1737, 2519, 1537, 2250, 5704, 2251, 5404, 2265, 990, 339, 347, 796, 303, 2190, 2444, 366, 792, 1713, 822, 1488, 2336, 778, 1605, 2328, 3717, 121, 1571, 5351, 1166, 3661, 3829, 1177, 519, 1151, 3383, 2233, 2631, 165, 571, 6040, 1358, 1238, 169, 2832, 2624, 3257, 1796, 1713, 2982, 1303, 2897, 918, 866, 2884, 221, 1618, 296, 241, 202, 426, 2647, 2503, 2812, 372, 2612, 4845, 159, 872, 3235, 841, 1379, 3559, 4244, 3415, 3115, 3769, 1186, 1540, 2552, 1619, 829, 1166, 1665, 2876, 2702, 189, 2956, 8132, 1541, 3635, 4346, 466, 169, 5851, 2681, 3828, 2373, 1096, 2167, 1845, 1884, 147, 3425, 1853, 673, 172, 540, 2732, 1162, 1228, 874, 1917, 731, 790, 4264, 1480, 1581, 3014, 4965, 438, 282, 1834, 1065, 4189, 161, 3327, 2925, 5382, 1571, 1427, 2695, 314, 2960, 1158, 3502, 3008, 253, 866, 1151, 2768, 3364, 343, 2546, 1127, 67, 4402, 1901, 739, 1413, 2993, 1721, 2864, 503, 3582, 575, 3149, 3374, 567, 288, 3358, 3663, 5321, 3511, 1744, 2536, 1957, 1911, 4098, 1653, 1981, 146, 3374, 2380, 1850, 5909, 2207, 2021, 5345, 2931, 1454, 2874, 6353, 4567, 369, 89, 2356, 2463, 1921, 1066, 644, 2428, 2516, 965, 4563, 2700, 1581, 6165, 476, 2450, 345, 1853, 4471, 1985, 5954, 1867, 2269, 5426, 2518, 958, 1151, 2432, 1647, 5816, 1575, 792, 639, 2988, 1747, 2410, 3691, 1989, 2087, 351, 2501, 829, 1358, 6897, 1034, 1964, 1946, 1480, 5191, 1808, 3395, 5201, 768, 2348, 1597, 2492, 796, 4500, 3078, 5697, 679, 928, 3663, 1304, 3420, 3844, 3761, 2768, 4570, 3020, 958, 2375, 852, 145, 270, 251, 1142, 1347, 5366, 711, 1661, 3415, 1655, 843, 146, 1347, 3701, 6018, 1885, 2246, 4436, 833, 2181, 1491, 884, 436, 1323, 141, 2647, 149, 11445, 1346, 773, 3731, 107, 5887, 351, 2826, 5954, 2332, 4247, 3914, 115, 788, 1923, 4074, 2817, 6064, 205, 2863, 2213, 1274, 2109, 1593, 2625, 4823, 119, 540, 4211, 4492, 1188, 175, 4138, 3579, 3848, 4960, 5383, 2241, 671, 177, 486, 2380, 201, 651, 3968, 4187, 170, 3078, 4394, 2577, 2628, 222, 1707, 1278, 5522, 4013, 7646, 1768, 5626, 3078, 3874, 1713, 1492, 4006, 3368, 1245, 95, 2388, 575, 3755, 1182, 262, 1342, 5478, 4629, 1644, 1258, 729, 2220, 3749, 236, 2043, 1641, 1943, 4923, 2554, 2320, 808, 1330, 2475, 716, 3091, 1605, 78, 3410, 677, 2050, 829, 660, 1229, 2727, 2330, 1304, 483, 4153, 187, 3877, 1462, 1765, 3554, 167, 446, 3101, 1898, 6179, 6668, 1342, 3095, 2173, 1677, 5285, 2804, 1773, 4660, 126, 171, 1603, 2133, 372, 1867, 319, 4221, 1031, 1808, 1099, 1102, 2696, 1235, 74, 4950, 435, 2220, 3110, 4514, 3889, 1288, 1733, 1893, 1225, 2463, 1043, 6574, 1679, 2404, 972, 277, 1904, 419, 4809, 1787, 2656, 6942, 2375, 4288, 990, 3511, 549, 311, 571, 419, 1537, 3755, 1581, 657, 5528, 2267, 718, 7073, 491, 1052, 263, 628, 1975, 3861, 2816, 3131, 4122, 3056, 1478, 2626, 3306, 793, 211, 1198, 153, 3057, 1537, 360, 513, 4257, 7130, 109, 498, 490, 5522, 1657, 3455, 75, 6771, 988, 918, 3399, 1142, 3560, 2759, 3653, 512, 5608, 1426, 6201, 255, 1078, 1024, 1322, 1231, 2007, 830, 577, 1277, 2203, 495, 545, 5536, 990, 1474, 2055, 792, 649, 1078, 1114, 1294, 1384, 1869, 992, 2972, 2587, 254, 3910, 2113, 665, 7116, 127, 5326, 4677, 1845, 6524, 3271, 982, 85, 6426, 6769, 481, 3340, 1058, 1491, 886, 3795, 2490, 563, 3129, 1230, 3261, 1197, 2111, 2055, 1193, 1761, 2636, 790, 2980, 3419, 834, 3779, 814, 1114, 866, 2396, 1999, 468, 1342, 218, 614, 1426, 1537, 939, 3418, 404, 974, 2406, 5626, 5956, 6404, 216, 1158, 202, 2342, 2976, 3131, 108, 4448, 1442, 2841, 2876, 1001, 982, 3547, 3125, 3142, 1398, 4427, 1956, 3078, 1018, 687, 3787, 2748, 109, 2609, 4516, 2319, 3629, 2087, 1557, 2364, 4138, 3171, 2243, 724, 145, 175, 4111, 492, 1022, 194, 2808, 852, 828, 323, 2942, 359, 719, 2360, 2735, 3677, 3842, 199, 171, 120, 628, 2946, 1789, 468, 1597, 3681, 317, 1977, 1230, 4410, 1496, 1012, 2862, 6692, 1404, 2812, 992, 5191, 1148, 245, 2909, 122, 1468, 1733, 5785, 1985, 4175, 6615, 569, 2759, 2631, 363, 1037, 355, 3283, 1468, 1138, 189, 339, 314, 6006, 2988, 1761, 3560, 874, 2874, 113, 262, 2181, 503, 1853, 7504, 644, 2885, 1017, 2530, 1617, 2328, 1328, 209, 1244, 1518, 1685, 3078, 2866, 294, 2069, 1046, 4442, 1930, 1780, 7086, 316, 3415, 5241, 1025, 473, 2912, 5976, 687, 2984, 1255, 3695, 1068, 1583, 661, 958, 2836, 5523, 972, 3002, 1198, 4566, 4402, 4819, 6033, 1537, 2181, 4916, 801, 1474, 3605, 873, 575, 860, 40, 515, 2133, 2181, 2253, 746, 1482, 1272, 117, 4434, 719, 1263, 6114, 2167, 942, 1897, 2631, 2978, 2332, 123, 1989, 2372, 1607, 958, 197, 1198, 2277, 796, 525, 3105, 2826, 3153, 5369, 3448, 1446, 1567, 1396, 1078, 291, 554, 731, 4250, 1514, 4054, 3067, 2343, 852, 5350, 4119, 425, 2133, 5145, 1162, 165, 3547, 1211, 2274, 4763, 5033, 1120, 2612, 4548, 5863, 254, 2713, 447, 1631, 5331, 3563, 1603, 2709, 4086, 1705, 1402, 7168, 962, 1281, 426, 1764, 1701, 4357, 3207, 732, 6751, 306, 8239, 193, 1209, 3878, 2693, 649, 4777, 1416, 2422, 2914, 2380, 1556, 689, 373, 539, 1612, 559, 179, 763, 756, 181, 6029, 3083, 113, 2087, 2535, 1789, 4687, 3425, 1657, 3101, 1347, 2270, 2556, 3779, 1505, 782, 480, 1911, 642, 1470, 159, 6309, 633, 3091, 1637, 805, 3767, 529, 645, 849, 1328, 2010, 4364, 792, 2804, 4290, 37, 2659, 5406, 930, 1826, 1145, 3150, 253, 1779, 1185, 467, 1414, 1518, 3034, 666, 181, 210, 1662, 3791, 402, 749, 2516, 5556, 1022, 525, 1576, 392, 5257, 4447, 5652, 3033, 780, 2474, 101, 3929, 564, 1245, 151, 825, 2696, 1231, 939, 2090, 2801, 3364, 2343, 1808, 992, 5768, 970, 3568, 3533, 6157, 4729, 9371, 1949, 4633, 4211, 1970, 3372, 934, 3375, 2388, 780, 102, 1713, 1605, 717, 1381, 215, 1076, 2931, 4211, 1830, 939, 1856, 115, 4613, 1431, 490, 366, 611, 2163, 575, 498, 661, 5294, 1208, 838, 660, 3928, 452, 782, 2580, 1537, 1687, 3115, 2348, 262, 3542, 4701, 1768, 519, 1677, 164, 1108, 4350, 1312, 659, 910, 2409, 2648, 1065, 798, 3062, 774, 4958, 697, 2768, 2591, 755, 354, 479, 1607, 1053, 1922, 1677, 1113, 1518, 2406, 2069, 3621, 4969, 1245, 5243, 934, 521, 4578, 1062, 2579, 165, 459, 1504, 5126, 2616, 842, 1223, 755, 1953, 288, 2976, 2675, 755, 410, 387, 3635, 1323, 2942, 4379, 2936, 600, 8851, 2428, 3813, 2556, 1255, 2769, 1571, 188, 1022, 3744, 2749, 480, 969, 4933, 2720, 4527, 3123, 2857, 1454, 1992, 1728, 2311, 7478, 593, 452, 856, 984, 2037, 149, 473, 293, 5105, 3010, 986, 458, 589, 283, 1935, 1569, 437, 1717, 1304, 784, 1816, 2070, 2184, 1922, 633, 2269, 1209, 1205, 3338, 227, 4680, 695, 579, 1478, 694, 703, 4514, 206, 589, 3169, 2490, 1151, 3900, 6439, 1845, 934, 3202, 2684, 221, 2439, 596, 2227, 5159, 1366, 8604, 378, 711, 1061, 1004, 609, 3558, 2025, 1864, 1907, 5660, 607, 1024, 3169, 2740, 640, 1960, 2067, 231, 253, 131, 2153, 5383, 1724, 3615, 168, 2999, 4165, 1134, 2888, 2696, 53, 113, 2287, 555, 1120, 719, 437, 2050, 1214, 2059, 3672, 3089, 815, 61, 1278, 1528, 129, 1301, 1844, 5068, 1095, 307, 1295, 2607, 3455, 2345, 197, 1761, 1905, 3086, 1060, 4653, 3339, 2439, 1379, 897, 1404, 615, 1069, 4101, 4793, 1138, 2771, 1948, 5206, 173, 73, 3415, 3803, 3961, 1384, 1251, 1821, 5141, 3205, 1720, 3418, 4374, 782, 1685, 153, 4101, 3453, 1179, 1004, 419, 3845, 2024, 1956, 1168, 55, 2020, 3073, 1884, 1364, 3193, 2336, 370, 3756, 175, 3078, 2109, 3243, 71, 189, 2579, 1486, 312, 4845, 171, 1834, 2082, 2705, 3731, 1592, 2125, 998, 3673, 2099, 1225, 3062, 4442, 4278, 631, 602, 2797, 445, 2348, 1975, 1374, 2006, 352, 908, 6035, 1379, 171, 2045, 1332, 2848, 1278, 1491, 195, 585, 1133, 1186, 93, 2836, 3621, 1761, 1325, 3942, 3506, 3560, 5099, 2570, 2563, 2187, 2348, 1682, 4274, 3185, 4580, 1800, 517, 5668, 2125, 555, 1948, 188, 367, 601, 361, 2332, 4042, 1356, 948, 782, 1192, 1701, 3153, 1042, 633, 213, 312, 3142, 1696, 639, 109, 796, 4687, 3036, 2372, 770, 663, 2167, 2749, 3057, 1904, 512, 605, 2826, 3846, 557, 3542, 2964, 2960, 490, 3611, 1378, 3119, 2013, 4761, 7590, 1326, 713, 982, 2119, 4234, 2396, 5757, 1303, 599, 3954, 1050, 6503, 5972, 1641, 2087, 3339, 2787, 2535, 8760, 1018, 1789, 1382, 5259, 1512, 2090, 1211, 1230, 1657, 739, 1105, 2619, 2721, 6381, 769, 1120, 1869, 1411, 1941, 4301, 343, 3998, 585, 535, 1609, 649, 2223, 2127, 4060, 3844, 1832, 1310, 659, 4402, 3643, 33, 4247, 259, 2607, 1372, 529, 846, 2648, 1584, 3629, 809, 117, 1611, 2402, 4225, 139, 4517, 1573, 6796, 842, 1277, 447, 1584, 1685, 503, 3574, 1186, 3146, 6474, 745, 1853, 3006, 736, 3956, 1807, 467, 3542, 1949, 3344, 2684, 592, 736, 211, 1279, 7201, 3103, 1522, 2101, 2972, 149, 433, 4920, 1164, 846, 2812, 865, 2946, 3137, 1657, 3113, 1510, 1629, 690, 4447, 5470, 2673, 3339, 502, 3038, 1288, 4354, 3202, 5976, 884, 3006, 3282, 1038, 6306, 2693, 2524, 3643, 1438, 4195, 1263, 2066, 1281, 4016, 3672, 2127, 2290, 1258, 4267, 102, 291, 2139, 1540, 1724, 645, 3990, 1611, 1116, 1203, 2999, 3425, 4579, 4134, 3384, 453, 2097, 6852, 1486, 3531, 1448, 1335, 2367, 2011, 6729, 1860, 3440, 1070, 1422, 129, 3408, 3139, 3704, 2656, 193, 1395, 3621, 778, 2465, 347, 966, 922, 1219, 747, 539, 4460, 1018, 2816, 101, 2553, 343, 365, 169, 4224, 4063, 293, 3411, 2698, 425, 2588, 5901, 511, 2812, 2556, 3504, 171, 535, 2470, 525, 4544, 743, 4848, 2656, 2840, 2956, 1861, 4364, 2797, 2759, 2431, 2530, 4761, 1229, 647, 261, 1686, 2996, 4458, 2239, 2712, 592, 2163, 3275, 679, 988, 1768, 1540, 2588, 3020, 2858, 3968, 1737, 175, 452, 185, 934, 1765, 291, 1651, 4563, 1494, 1419, 1291, 7931, 595, 2026, 2603, 2117, 247, 256, 2680, 3487, 2816, 2050, 1288, 3688, 1644, 5298, 2117, 327, 1837, 934, 308, 171, 1496, 525, 3928, 161, 2636, 3644, 6729, 2316, 3302, 2127, 2862, 3231, 237, 1022, 466, 617, 113, 3075, 2067, 4769, 243, 263, 945, 1306, 1821, 1230, 1887, 1318, 186, 995, 1380, 905, 1874, 6231, 1837, 289, 2133, 2250, 1480, 503, 1113, 6024, 4711, 152, 5851, 2251, 2796, 611, 3390, 492, 1669, 927, 6196, 744, 466, 4137, 207, 2463, 138, 1095, 2258, 663, 2103, 4863, 6048, 2239, 5273, 5852, 1629, 250, 180, 527, 2840, 1407, 589, 796, 1657, 1518, 467, 885, 3165, 1847, 491, 1808, 4506, 1705, 3113, 3020, 1779, 1185, 6359, 2167, 1737, 2846, 6114, 1576, 373, 1384, 473, 4697, 892, 2376, 2709, 1997, 755, 2566, 596, 2297, 2886, 340, 828, 3731, 905, 1411, 173, 399, 982, 2390, 5382, 2536, 1941, 1448, 1058, 759, 2093, 7142, 2428, 3828, 431, 1733, 1034, 3174, 4604, 2820, 196, 5715, 3119, 2471, 3835, 1261, 2285, 798, 2125, 508, 1990, 3103, 575, 157, 196, 805, 2548, 3868, 2143, 697, 2423, 2406, 1537, 739, 2063, 1454, 356, 3350, 1358, 3731, 3372, 774, 397, 3068, 3276, 143, 1362, 2143, 1366, 1198, 1757, 4767, 870, 1031, 2025, 4902, 149, 2543, 479, 3101, 1707, 864, 4910, 1257, 243, 5001, 4314, 843, 2073, 1230, 1693, 639, 4745, 3079, 5466, 2651, 2103, 1090, 2141, 2145, 419, 591, 2501, 850, 2679, 3611, 3439, 727, 5695, 4762, 265, 852, 735, 1151, 2223, 1857, 675, 155, 1185, 1697, 2721, 4920, 351, 856, 284, 838, 5920, 147, 135, 651, 2103, 2458, 6411, 1655, 2956, 1833, 894, 2852, 105, 1987, 118, 2137, 1569, 531, 2224, 295, 382, 1348, 4578, 3761, 2616, 3709, 34, 142, 572, 1749, 2736, 701, 1310, 1203, 1552, 4301, 3110, 1608, 1705, 1018, 3103, 982, 1736, 2293, 3691, 378, 6893, 279, 6093, 187, 792, 2233, 497, 4274, 1239, 774, 7534, 2336, 607, 223, 7843, 1686, 3844, 2541, 2886, 3315, 5681, 2694, 529, 3896, 3427, 9467, 1618, 109, 978, 952, 501, 70, 250, 2365, 2695, 87, 1004, 2947, 3103, 886, 199, 459, 1146, 479, 2746, 4159, 1171, 1829, 3415, 3361, 663, 1437, 2603, 2090, 2073, 5772, 3844, 2147, 1577, 1966, 3292, 2719, 5496, 3858, 2306, 1139, 1757, 564, 808, 3941, 1845, 2863, 852, 457, 256, 2034, 1278, 1366, 2940, 885, 2316, 8912, 2847, 1725, 420, 5800, 3448, 2175, 2036, 683, 63, 455, 2348, 2090, 3430, 2885, 1488, 663, 251, 2889, 1498, 3528, 3861, 353, 4756, 801, 1821, 1524, 4414, 1142, 1035, 3280, 3199, 780, 2553, 834, 2748, 1761, 2283, 387, 4789, 2828, 2024, 1603, 3981, 4146, 3395, 2040, 3554, 539, 3901, 311, 189, 219, 2606, 6757, 642, 5386, 4073, 181, 7247, 2255, 1486, 117, 1530, 2414, 814, 2530, 3677, 852, 2873, 323, 3605, 4604, 985, 1528, 1813, 1416, 3266, 1274, 1388, 7503, 774, 818, 5892, 4950, 3693, 805, 4349, 1597, 777, 722, 6291, 3365, 49, 3974, 1677, 671, 2745, 519, 1231, 2931, 7247, 1631, 890, 567, 1105, 942, 960, 1544, 3318, 3185, 1659, 5752, 4586, 2646, 471, 1150, 119, 4925, 157, 1025, 759, 207, 5753, 2091, 3219, 3532, 3440, 3453, 59, 428, 801, 8138, 1416, 759, 715, 3206, 2770, 1780, 234, 1794, 1314, 308, 1938, 4097, 5396, 1491, 47, 894, 3515, 2306, 1618, 3430, 2069, 4647, 1917, 284, 1346, 2252, 6033, 2336, 2956, 1547, 291, 2797, 2614, 4386, 6391, 3495, 5033, 4578, 998, 3478, 2013, 1398, 472, 632, 1543, 1528, 2109, 1017, 2821, 621, 2330, 1662, 1661, 527, 299, 1651, 1470, 1277, 857, 1890, 103, 418, 1006, 3281, 2886, 3046, 628, 223, 1315, 1336, 2157, 2460, 463, 1583, 3494, 913, 3572, 2241, 3048, 3713, 355, 2257, 1198, 275, 2277, 4228, 199, 3739, 352, 2684, 1354, 1757, 727, 527, 838, 1164, 1312, 834, 3962, 4845, 1416, 1127, 97, 120, 2376, 1458, 3403, 441, 2526, 2059, 1001, 141, 285, 7033, 2679, 2580, 2878, 6242, 340, 2050, 7334, 67, 2546, 4207, 1947, 1168, 1717, 1549, 1566, 3179, 296, 562, 1102, 1845, 2466, 1843, 5141, 1174, 2684, 2535, 2918, 552, 3418, 1467, 679, 88, 427, 3778, 5069, 3874, 3571, 1701, 1757, 127, 1238, 2050, 1150, 802, 3202, 4619, 2153, 715, 1964, 1262, 2302, 1109, 2561, 4426, 2246, 4133, 3978, 460, 918, 1965, 1022, 4492, 1523, 1414, 1518, 2816, 506, 1761, 186, 3187, 2153, 824, 772, 755, 4633, 2956, 1964, 3150, 645, 1428, 1821, 5500, 223, 303, 666, 1337, 1158, 420, 1789, 1687, 2109, 3894, 535, 6972, 2918, 2366, 225, 6458, 3205, 1042, 5145, 948, 4255, 4122, 459, 1384, 288, 4579, 2460, 348, 85, 3983, 599, 1113, 3866, 4633, 1071, 4202, 2087, 1208, 4649, 1707, 545, 2388, 410, 473, 932, 3872, 5546, 1771, 755, 2220, 1090, 1877, 2994, 5452, 542, 857, 1238, 110, 5522, 5512, 4815, 4414, 1106, 1054, 1284, 1780, 1977, 3056, 2352, 5195, 731, 1050, 2101, 203, 2432, 3739, 199, 1977, 5728, 1398, 801, 1667, 644, 3323, 3350, 540, 2006, 1298, 2466, 2407, 1518, 1867, 2725, 4554, 3835, 2528, 758, 1402, 1006, 918, 5660, 6851, 1448, 99, 986, 1733, 265, 6641, 527, 2510, 3678, 1926, 5331, 2826, 2759, 218, 1808, 3271, 2527, 856, 330, 1458, 4456, 4673, 1924, 302, 209, 1904, 2004, 3149, 3297, 1488, 460, 2897, 591, 918, 1808, 2812, 1165, 711, 2972, 1605, 1323, 351, 2197, 804, 2105, 3068, 5400, 1102, 2956, 1601, 759, 6338, 1166, 4595, 390, 778, 2544, 4474, 3289, 2059, 852, 4258, 1534, 3257, 5681, 1765, 2763, 2940, 2854, 1238, 1928, 2749, 2739, 5093, 972, 559, 4952, 3621, 774, 1318, 918, 101, 7350, 1390, 1312, 6507, 2036, 3595, 2460, 4560, 543, 2384, 543, 3135, 2695, 1007, 1518, 2556, 3528, 163, 2712, 1058, 4933, 1454, 671, 4757, 146, 3529, 2390, 438, 229, 439, 2529, 209, 415, 3795, 1970, 48, 4904, 820, 1235, 4452, 810, 683, 8063, 2451, 1619, 423, 1984, 5299, 320, 2548, 1950, 2492, 1038, 7580, 3383, 1837, 4580, 5000, 4781, 4821, 1896, 2281, 3408, 1822, 515, 173, 569, 2878, 1162, 669, 2326, 4769, 964, 91, 2277, 2570, 1677, 4334, 822, 1569, 4233, 1984, 938, 761, 2490, 2010, 3998, 2886, 3036, 5552, 8958, 3523, 3006, 1324, 495, 196, 1346, 78, 2642, 5267, 402, 207, 3567, 2069, 862, 770, 177, 3271, 5451, 4349, 3368, 2050, 3563, 4604, 1571, 2988, 4074, 3109, 2281, 3663, 3271, 1621, 1128, 2109, 968, 3091, 3133, 2037, 563, 1304, 483, 2805, 1060, 1325, 4502, 2889, 3797, 2476, 2182, 1895, 3050, 3185, 916, 121, 215, 2972, 875, 2649, 745, 1436, 3558, 2807, 2776, 2703, 1686, 1754, 1524, 316, 5031, 2969, 1787, 1086, 3568, 255, 1560, 5053, 1957, 1158, 2692, 1743, 1435, 671, 703, 1559, 1773, 4364, 249, 383, 2101, 2348, 1657, 6705, 1525, 1464, 3837, 1073, 2010, 2189, 4540, 2014, 1230, 1454, 308, 639, 2908, 1691, 6849, 1733, 175, 6072, 2330, 1386, 7136, 296, 1545, 2556, 2028, 2450, 1906, 5033, 1777, 3677, 945, 182, 1675, 3307, 1779, 311, 343, 3302, 4250, 759, 245, 1561, 1358, 2821, 6199, 6867, 183, 622, 122, 2749, 958, 1444, 615, 1472, 7170, 2446, 569, 4794, 1438, 1304, 2184, 1621, 5033, 3036, 3020, 1545, 210, 1023, 4613, 1201, 1505, 585, 2900, 3078, 3415, 1896, 2936, 2450, 1295, 2492, 2603, 3159, 1154, 1145, 2278, 1901, 551, 1133, 1330, 3705, 1151, 40, 467, 4725, 3327, 1347, 4124, 3485, 1749, 131, 237, 693, 225, 1895, 3994, 2693, 2931, 3214, 1414, 2085, 3203, 322, 1182, 555, 785, 2077, 755, 747, 3483, 5182, 1886, 1211, 203, 1895, 552, 1201, 892, 1592, 3795, 882, 6471, 1609, 585, 4602, 466, 591, 4500, 4250, 1342, 1278, 3197, 3020, 980, 2960, 529, 2972, 3098, 110, 591, 529, 6331, 703, 1315, 1947, 1810, 4327, 5070, 480, 3353, 1640, 89, 1749, 3374, 180, 4857, 2269, 1406, 596, 539, 3392, 123, 238, 2563, 918, 4586, 635, 637, 322, 4346, 3285, 2619, 1318, 221, 4623, 1771, 107, 579, 4068, 1794, 700, 1239, 2150, 517, 2239, 347, 2233, 3089, 3675, 2516, 2090, 1861, 6114, 3094, 5089, 1960, 183, 2596, 1749, 1310, 2708, 1097, 5609, 428, 534, 1722, 1989, 1845, 2467, 1725, 1761, 2871, 2117, 3815, 739, 625, 4207, 4828, 2450, 1135, 1659, 3950, 1123, 5866, 1686, 1216, 2543, 2120, 1038, 3916, 1629, 2649, 221, 3874, 647, 1605, 7064, 986, 1263, 1445, 1182, 2071, 5141, 575, 1104, 1505, 2912, 5522, 2775, 619, 256, 2297, 2621, 790, 2976, 1115, 309, 2237, 2694, 234, 3089, 476, 1076, 633, 1549, 4082, 3448, 1159, 958, 299, 2428, 3215, 327, 856, 3169, 1406, 744, 3605, 262, 2966, 383, 394, 534, 5000, 1667, 2439, 5034, 2087, 2157, 374, 1201, 1725, 7028, 1970, 5274, 225, 1817, 5725, 5238, 2141, 796, 264, 1938, 1444, 2992, 1150, 1491, 1737, 1904, 508, 4396, 1604, 894, 3271, 1629, 764, 126, 228, 2628, 3516, 653, 2406, 1069, 1976, 1368, 355, 1001, 1644, 1619, 3453, 1411, 3238, 2316, 1240, 265, 2716, 639, 2649, 852, 449, 2303, 89, 1263, 2277, 322, 1295, 2396, 5487, 4637, 1981, 872, 175, 1962, 2025, 1874, 2348, 3020, 4655, 1747, 2812, 1850, 45, 1571, 2783, 3200, 2316, 491, 233, 476, 3173, 790, 153, 3369, 2348, 2002, 2101, 3379, 494, 5759, 1404, 1018, 624, 1518, 1379, 1180, 857, 982, 958, 1693, 1874, 3648, 2016, 1358, 1031, 774, 1267, 671, 323, 1837, 190, 2865, 1596, 2125, 1537, 1255, 310, 1208, 36, 1022, 2666, 718, 4266, 2360, 934, 2833, 1733, 1755, 561, 1803, 1145, 3723, 1895, 37, 259, 3630, 3560, 549, 773, 878, 2741, 2098, 9779, 203, 517, 3782, 425, 1947, 3075, 3930, 41, 591, 2796, 1765, 3295, 3338, 1166, 865, 6855, 5153, 1246, 4138, 2694, 196, 1342, 3099, 4541, 5106, 111, 1794, 1853, 1625, 1090, 2892, 170, 551, 978, 2992, 1480, 2862, 681, 5690, 185, 1416, 5580, 905, 2856, 347, 3962, 6040, 1323, 5704, 1114, 1006, 690, 2516, 1038, 1208, 522, 9251, 525, 2048, 10993, 39, 2482, 1635, 3383, 1426, 4327, 3579, 2693, 1957, 2931, 5438, 509, 1201, 2564, 1411, 1291, 4042, 5201, 2863, 1078, 1846, 476, 2696, 194, 535, 2546, 195, 111, 6478, 605, 2976, 5880, 889, 3435, 1110, 2586, 1906, 2586, 1378, 89, 683, 1348, 111, 4514, 937, 2458, 4745, 3466, 2503, 3089, 1342, 3938, 2021, 170, 1927, 873, 421, 587, 280, 878, 6636, 1779, 492, 3900, 3435, 5219, 4913, 4149, 2530, 1837, 2131, 2916, 1528, 2934, 3171, 998, 1105, 918, 575, 3739, 2684, 2712, 4567, 5480, 5033, 2581, 2456, 227, 2120, 407, 230, 1286, 2189, 1859, 1744, 2246, 4106, 186, 181, 778, 2947, 1918, 3705, 1283, 3410, 1284, 785, 1518, 2245, 4427, 1230, 1174, 493, 2570, 980, 2609, 1395, 3426, 7028, 1402, 164, 2085, 365, 4607, 1091, 3395, 1797, 517, 4093, 2804, 3797, 5690, 3235, 1579, 1901, 4621, 782, 755, 1406, 1194, 402, 127, 2436, 4532, 4649, 4873, 1246, 5233, 5229, 3075, 1332, 2526, 158, 1697, 5351, 1743, 340, 2770, 508, 210, 1617, 5773, 383, 1090, 1283, 4379, 3237, 331, 1041, 3338, 2302, 3111, 2011, 3374, 2013, 1895, 1853, 2693, 1384, 2706, 1162, 865, 479, 5469, 3877, 624, 652, 2844, 1324, 1406, 5303, 2105, 3835, 5195, 194, 6079, 1669, 815, 1328, 679, 966, 3593, 400, 1887, 96, 2476, 1854, 2162, 666, 351, 181, 2183, 2065, 4697, 1846, 1665, 591, 143, 6201, 972, 3419, 679, 1104, 1777, 2303, 1965, 1955, 407, 1384, 1504, 2570, 1245, 3495, 743, 982, 1376, 2053, 3159, 191, 1543, 1029, 1800, 399, 2916, 3719, 5273, 3354, 3428, 7150, 161, 4602, 3695, 377, 1787, 3139, 2285, 4660, 679, 3773, 1049, 1864, 307, 527, 2406, 123, 1826, 3323, 3453, 2103, 243, 1235, 3685, 463, 1038, 1534, 3551, 3149, 4727, 5000, 447, 1151, 3083, 2554, 3364, 215, 3984, 2187, 372, 540, 3169, 4326, 2221, 1225, 1438, 3235, 1041, 890, 2363, 2696, 4530, 2117, 2048, 3215, 1225, 1378, 94, 439, 1047, 543, 2586, 952, 1211, 2342, 3207, 1691, 2432, 2890, 167, 1382, 2659, 97, 1599, 1797, 1459, 351, 708, 7741, 1186, 487, 3225, 2251, 8262, 1946, 6327, 2313, 3355, 1619, 2463, 687, 3815, 966, 2025, 4119, 197, 2856, 4262, 2534, 2371, 782, 6831, 2759, 2220, 2106, 1901, 1514, 41, 4306, 3486, 455, 2892, 2830, 2782, 1905, 602, 2508, 264, 3182, 37, 4326, 2093, 592, 1145, 319, 1725, 3044, 1398, 303, 1917, 3048, 2277, 5896, 4086, 968, 1618, 2302, 1713, 945, 1896, 2759, 1006, 2805, 2153, 4460, 1605, 4012, 3361, 4278, 3263, 2660, 908, 1198, 1833, 756, 3793, 353, 1557, 2553, 2812, 1105, 1304, 2519, 2817, 2024, 4207, 2756, 3167, 1765, 4314, 529, 4206, 253, 3057, 8413, 3131, 2283, 5896, 515, 3375, 3559, 1669, 585, 2784, 306, 2548, 2061, 5475, 3331, 3467, 3003, 258, 4333, 1148, 2444, 663, 4488, 1382, 4432, 3795, 814, 454, 488, 3237, 1059, 4199, 1884, 3523, 2105, 1874, 2628, 3440, 1687, 2063, 91, 1617, 4538, 2323, 4483, 419, 4434, 1965, 2109, 2290, 3175, 2376, 5683, 1544, 2165, 3012, 1547, 1125, 1528, 858, 3998, 279, 902, 4026, 2410, 2098, 509, 2492, 1161, 6291, 3036, 2876, 102, 2078, 3266, 671, 3146, 3251, 3585, 405, 1923, 2852, 4380, 3934, 5313, 722, 1607, 1438, 722, 113, 1043, 335, 4029, 856, 1640, 3924, 3691, 2055, 2059, 802, 2940, 4302, 498, 2220, 2354, 2914, 2246, 2752, 335, 2792, 1032, 1211, 5635, 1697, 1018, 1749, 10256, 1829, 1181, 6608, 2828, 1565, 830, 1006, 4570, 398, 1413, 5727, 3439, 4986, 2290, 1794, 4673, 735, 93, 5267, 729, 127, 1288, 3588, 4853, 6704, 2087, 6595, 778, 2524, 3175, 341, 249, 4579, 2326, 3515, 376, 47, 163, 743, 1500, 2036, 3870, 1426, 2460, 5888, 828, 2569, 529, 3658, 210, 1265, 229, 162, 2221, 352, 2175, 1403, 2143, 296, 1981, 2588, 2906, 1973, 452, 2428, 1721, 83, 4566, 298, 5359, 111, 974, 9664, 5834, 1422, 1687, 2285, 1508, 3146, 432, 4096, 1444, 5410, 355, 1342, 1104, 2077, 3630, 2446, 1784, 1569, 4811, 4870, 3367, 1464, 667, 3475, 2306, 455, 615, 1569, 453, 8508, 1177, 331, 2292, 4870, 914, 1239, 1810, 2324, 1973, 1438, 4221, 4247, 950, 1621, 1701, 2302, 3095, 4146, 2596, 3155, 3579, 1342, 425, 1201, 2864, 3813, 1589, 3848, 619, 1491, 120, 2546, 1328, 519, 703, 3422, 2079, 1133, 4908, 527, 1550, 3052, 3954, 978, 4094, 721, 4795, 3339, 1843, 2659, 5992, 2645, 592, 593, 1414, 1471, 524, 502, 567, 2946, 3338, 2940, 623, 1030, 1805, 114, 4504, 3451, 2492, 402, 2600, 2716, 2386, 8028, 1314, 4136, 3004, 2656, 2748, 337, 2631, 2557, 2376, 2597, 319, 492, 2796, 669, 980, 1342, 2782, 327, 1576, 2916, 3022, 1071, 792, 3225, 1895, 3155, 229, 191, 894, 331, 1174, 1864, 1733, 1061, 1037, 219, 2388, 2406, 1442, 1230, 159, 1829, 4567, 2745, 4211, 2916, 984, 3004, 351, 631, 4138, 2892, 1832, 1752, 656, 3845, 229, 732, 847, 539, 1635, 2450, 1845, 3427, 5084, 4837, 639, 2587, 1470, 2428, 3745, 2516, 3185, 988, 1757, 2519, 1510, 337, 6026, 2909, 761, 809, 123, 1459, 107, 768, 2746, 4374, 205, 354, 1506, 1800, 1518, 1325, 458, 1534, 905, 2267, 3263, 2954, 2106, 683, 282, 1701, 1358, 607, 1685, 2302, 2750, 981, 1442, 7646, 1539, 243, 359, 4242, 2354, 2458, 2127, 8388, 2799, 1797, 2460, 2700, 4026, 1301, 44, 5394, 3946, 1438, 3652, 3621, 529, 1314, 2804, 3894, 388, 583, 3476, 3630, 388, 1298, 1404, 1948, 3418, 2153, 1310, 3251, 1150, 980, 2783, 1228, 591, 133, 578, 3769, 1672, 12117, 549, 6574, 490, 2106, 866, 2759, 1921, 2588, 703, 3751, 1504, 2648, 6358, 4725, 3199, 1948, 1257, 531, 1038, 850, 5355, 2924, 1245, 1713, 3709, 670, 3599, 652, 1126, 5645, 3974, 4261, 1992, 2334, 2299, 1202, 2900, 810, 6189, 2057, 1069, 2768, 2073, 1006, 1323, 614, 183, 2127, 1444, 3279, 5424, 1859, 2055, 1332, 878, 2514, 1428, 6021, 612, 1537, 392, 222, 2783, 792, 2376, 768, 316, 3962, 6723, 701, 1071, 767, 3159, 652, 2884, 4828, 3520, 906, 4376, 639, 3162, 2633, 1054, 3781, 638, 593, 115, 1959, 1840, 750, 750, 7685, 1768, 3472, 540, 1596, 1024, 205, 6096, 3289, 699, 6207, 3950, 1331, 3062, 4294, 399, 739, 101, 4042, 2764, 339, 3089, 1231, 109, 892, 5049, 1018, 2540, 3215, 135, 3089, 2836, 703, 2527, 282, 679, 6528, 2586, 790, 272, 1091, 1158, 5327, 4288, 4119, 4566, 1750, 1006, 1435, 3903, 4685, 111, 2596, 41, 1999, 2707, 1427, 191, 3819, 47, 1444, 5275, 985, 1065, 926, 2768, 2841, 3020, 5797, 4012, 2929, 191, 2157, 4965, 2848, 6145, 1960, 790, 367, 1821, 1737, 2241, 61, 3681, 2802, 649, 1078, 1390, 2624, 447, 2929, 1665, 1571, 1917, 3904, 2316, 685, 3705, 6474, 150, 3629, 6759, 2045, 4729, 866, 3179, 2149, 4604, 2581, 2484, 5329, 4141, 44, 2332, 1118, 1576, 2910, 2852, 3372, 1281, 2127, 767, 293, 1038, 1581, 3444, 1695, 545, 162, 6207, 97, 675, 4532, 1304, 447, 858, 1134, 2189, 179, 3094, 982, 1018, 1603, 2181, 711, 2996, 218, 3247, 6723, 3448, 316, 3199, 3972, 778, 3815, 1791, 1436, 1797, 3846, 7084, 2085, 193, 996, 3124, 4377, 3567, 1048, 2816, 524, 1178, 120, 3946, 1366, 1090, 607, 1304, 1565, 2328, 1221, 6970, 777, 2950, 3961, 309, 758, 9562, 1644, 3901, 1617, 711, 3335, 3265, 739, 2580, 181, 1597, 4656, 2885, 2192, 3880, 2024, 3238, 4146, 2463, 2293, 3301, 3914, 703, 663, 190, 830, 329, 2365, 523, 1094, 1704, 2237, 2609, 2182, 719, 3781, 1845, 690, 1300, 1406, 857, 2490, 751, 1065, 159, 4344, 1980, 1794, 2956, 1687, 7602, 1659, 167, 2456, 1347, 1557, 2001, 559, 6624, 2237, 2731, 1300, 1657, 361, 751, 3555, 986, 946, 2492, 4165, 3844, 2566, 2330, 69, 2759, 885, 1677, 6002, 506, 1340, 3691, 3831, 371, 3520, 5077, 1840, 894, 1231, 2854, 958, 1000, 317, 3435, 5772, 1123, 4761, 2708, 3001, 1882, 429, 1565, 3113, 5179, 169, 213, 1607, 447, 3691, 1565, 2406, 605, 4233, 331, 3942, 1574, 2375, 2780, 1379, 1065, 8868, 5369, 2097, 1165, 3645, 53, 3621, 1821, 589, 3022, 5759, 386, 441, 2852, 1225, 469, 3661, 312, 1094, 2440, 978, 444, 2153, 5978, 1860, 1612, 2077, 1208, 5193, 1274, 1021, 1235, 1340, 852, 3769, 3515, 1230, 516, 818, 1272, 5375, 1278, 1777, 1062, 1174, 5086, 4693, 2966, 2530, 2530, 985, 37, 822, 4027, 3243, 1288, 3859, 4436, 6088, 2025, 2596, 1257, 3781, 1701, 4643, 3463, 2226, 856, 2773, 91, 3910, 4869, 3254, 1340, 61, 1435, 1436, 1281, 4705, 1334, 4660, 1128, 1883, 1118, 1211, 1282, 435, 701, 910, 3954, 430, 2013, 1877, 4247, 2404, 533, 2703, 2324, 3029, 2664, 683, 4351, 3412, 4157, 458, 1488, 830, 2103, 1904, 170, 474, 649, 1342, 311, 3249, 280, 122, 1108, 2097, 1078, 2087, 5321, 2668, 3419, 4807, 3920, 1997, 5313, 4379, 2241, 1607, 2731, 490, 8479, 1662, 1944, 1047, 3628, 484, 2519, 784, 545, 5976, 452, 3112, 3315, 4180, 243, 2049, 2708, 1656, 2388, 319, 1895, 423, 3346, 6543, 2516, 335, 2559, 3355, 1379, 2998, 2117, 2708, 724, 1584, 3342, 3866, 642, 553, 247, 2524, 1022, 3588, 2636, 93, 5339, 1605, 2563, 7425, 6964, 3179, 1388, 1807, 150, 259, 622, 804, 1561, 2460, 1039, 3471, 7317, 1844, 283, 4740, 5752, 596, 2576, 729, 1090, 4566, 1860, 1416, 3595, 104, 4753, 595, 1577, 2687, 1695, 3029, 192, 1627, 141, 732, 3271, 628, 3105, 3112, 1446, 2833, 1014, 4876, 1249, 3379, 1118, 543, 427, 4287, 1587, 1265, 3615, 165, 115, 3554, 3488, 3515, 1369, 3179, 477, 3364, 1061, 2387, 1201, 878, 6636, 439, 2696, 2994, 1794, 129, 2059, 2422, 1864, 2756, 219, 4915, 1637, 4595, 171, 191, 1214, 1114, 5034, 2993, 1390, 1086, 1965, 1587, 4933, 370, 4210, 2404, 198, 4082, 948, 1372, 1102, 1751, 3994, 2277, 1193, 1470, 517, 5608, 4028, 647, 126, 2404, 2285, 824, 719, 1890, 2343, 1264, 3745, 1709, 5369, 6191, 6338, 926, 3048, 1549, 2586, 418, 3137, 1488, 980, 2609, 1737, 1312, 2490, 631, 221, 234, 1326, 312, 1549, 4040, 2780, 1029, 1211, 2125, 1034, 1607, 45, 1384, 47, 1091, 3954, 1498, 121, 3383, 4474, 305, 620, 1514, 679, 3271, 4836, 2500, 1641, 3398, 988, 4396, 96, 2306, 4996, 6897, 2308, 808, 549, 1348, 229, 2646, 447, 8474, 3970, 1727, 1298, 1252, 194, 1627, 143, 2572, 2759, 2956, 2217, 4074, 1547, 422, 3243, 152, 633, 1314, 868, 183, 4893, 1416, 7393, 703, 182, 1516, 1667, 1693, 962, 4195, 385, 2241, 1278, 1531, 852, 394, 1264, 4012, 3078, 213, 1438, 400, 1218, 1187, 798, 1492, 171, 166, 1320, 615, 5056, 3325, 2390, 5287, 1511, 709, 1100, 88, 3749, 179, 1384, 1757, 110, 2106, 442, 677, 308, 3237, 848, 1488, 2281, 923, 6303, 5779, 4020, 2570, 579, 3504, 4266, 7033, 1715, 3704, 759, 1326, 422, 419, 4474, 3954, 2077, 2197, 1134, 1565, 1334, 1267, 190, 2326, 1583, 882, 5960, 3691, 1737, 341, 83, 713, 4963, 1874, 1787, 401, 2404, 1482, 5946, 4586, 3728, 3214, 6474, 3823, 165, 316, 1747, 4022, 2804, 567, 2259, 2999, 379, 3935, 1510, 296, 1516, 555, 5033, 1655, 1146, 1668, 858, 2818, 5452, 2612, 2093, 2940, 2261, 4566, 1813, 4287, 1258, 1810, 1062, 5522, 894, 1225, 2162, 1693, 3115, 3277, 5438, 2731, 8217, 3715, 416, 3635, 1842, 39, 2619, 4460, 2579, 787, 986, 264, 709, 2599, 2740, 5890, 595, 239, 4165, 2067, 3874, 4996, 2550, 583, 1981, 697, 3705, 1607, 645, 1957, 4866, 176, 406, 468, 2961, 6817, 679, 3225, 873, 2553, 922, 3089, 495, 612, 1182, 555, 295, 4844, 3340, 3509, 4921, 5346, 2387, 2404, 1011, 6371, 1551, 3145, 922, 3475, 2527, 604, 343, 2526, 3214, 3422, 1057, 3025, 1549, 2022, 677, 4727, 154, 4267, 183, 4492, 4807, 539, 2143, 1428, 1410, 1030, 1105, 4649, 4363, 2482, 2740, 451, 1282, 551, 761, 1416, 5226, 4961, 1414, 4174, 2846, 1685, 2572, 4860, 531, 1657, 3397, 4181, 197, 656, 2021, 160, 1895, 1303, 1125, 527, 719, 4399, 1944, 619, 3178, 2246, 2976, 1629, 3735, 873, 1771, 1342, 2512, 2397, 2631, 4288, 141, 2808, 311, 1584, 89, 5592, 499, 4436, 959, 3463, 1707, 552, 3231, 1938, 3884, 401, 3757, 1565, 2614, 1138, 1091, 1743, 5175, 2902, 2929, 5747, 958, 2247, 2314, 441, 1457, 4345, 1162, 2576, 247, 2227, 316, 2966, 2239, 2013, 1789, 788, 5163, 1133, 1017, 3010, 691, 4377, 2117, 1024, 2013, 1278, 3433, 705, 3448, 4466, 253, 2628, 2526, 413, 3064, 2410, 623, 2988, 940, 344, 1310, 1351, 2143, 3124, 589, 1208, 7883, 2616, 1254, 2954, 4442, 976, 3123, 256, 4587, 1593, 242, 292, 629, 1030, 1015, 3332, 2277, 1800, 1845, 3579, 307, 1737, 108, 745, 1378, 3010, 524, 1547, 376, 1651, 4470, 1677, 1970, 874, 143, 2631, 1662, 2217, 2846, 2669, 1258, 3705, 2651, 587, 1846, 2013, 3755, 575, 2059, 5005, 3387, 3739, 303, 223, 1298, 380, 4434, 2586, 4277, 1070, 1001, 2871, 4287, 1864, 2607, 4277, 155, 1222, 2766, 2106, 4508, 1191, 3085, 649, 3293, 9069, 5672, 2960, 1557, 447, 365, 126, 1162, 2858, 185, 1695, 6056, 1488, 1310, 569, 1041, 463, 131, 3301, 1808, 4138, 1370, 852, 1471, 2354, 4374, 3563, 3506, 249, 563, 1653, 1113, 1341, 968, 3994, 3844, 1182, 3795, 2255, 1448, 2535, 1098, 4166, 910, 2014, 6024, 1458, 2423, 1504, 1278, 1767, 1677, 280, 3914, 1258, 2195, 2659, 689, 2603, 282, 769, 4152, 1534, 3202, 353, 1547, 2277, 3475, 2822, 1216, 3570, 3263, 2716, 3558, 555, 7100, 2664, 1724, 1308, 4740, 433, 2388, 1868, 449, 4459, 370, 1516, 253, 1025, 592, 675, 1970, 2950, 568, 1255, 153, 1917, 5834, 493, 1860, 2433, 3251, 4454, 2841, 6385, 2376, 1677, 1937, 296, 2259, 2504, 2069, 1701, 710, 4502, 703, 2138, 2145, 331, 412, 1165, 1324, 356, 3600, 243, 1821, 4165, 88, 8789, 1149, 3281, 5742, 10306, 263, 2237, 932, 2184, 3139, 466, 447, 2063, 527, 2609, 2082, 2450, 3775, 713, 202, 2263, 837, 1635, 5841, 1030, 6275, 1870, 3690, 296, 898, 1596, 6669, 7105, 1696, 1384, 1390, 176, 1788, 4587, 1034, 761, 1418, 415, 3803, 365, 767, 1669, 151, 1922, 1713, 311, 1364, 2002, 3691, 575, 170, 820, 4275, 1304, 1705, 1480, 1338, 6251, 588, 319, 1491, 958, 1418, 1125, 9554, 2966, 691, 1829, 758, 223, 1350, 1366, 406, 2109, 2111, 1338, 1677, 2316, 1158, 2681, 460, 1609, 2626, 1138, 3605, 343, 2719, 2418, 173, 442, 1324, 3880, 552, 1012, 1090, 2006, 547, 2354, 5487, 604, 680, 3773, 50, 4653, 386, 379, 1159, 3243, 1086, 1973, 715, 1132, 4527, 5383, 245, 862, 51, 3004, 4035, 3111, 173, 199, 4440, 1838, 3367, 607, 4695, 1670, 264, 708, 2993, 1006, 125, 371, 1597, 4119, 231, 4979, 3723, 1938, 2199, 2283, 157, 515, 1677, 2057, 5888, 1288, 2247, 1567, 4813, 1957, 1105, 2061, 6474, 5890, 999, 753, 2572, 1298, 1179, 1922, 195, 2822, 1506, 4681, 3237, 2471, 644, 3563, 2600, 2266, 1911, 356, 645, 2863, 2649, 1374, 1268, 1573, 5865, 4984, 1454, 3691, 396, 1211, 473, 3338, 2045, 437, 2446, 2030, 539, 703, 1442, 2376, 1744, 871, 1342, 1171, 4572, 265, 2503, 6050, 2441, 123, 1797, 1926, 3094, 1428, 882, 4229, 1148, 1318, 1720, 2807, 1508, 1366, 1470, 5912, 1393, 5289, 2213, 6930, 3453, 2150, 1155, 3205, 3942, 3894, 2290, 892, 564, 1545, 482, 2356, 2061, 123, 4566, 498, 3020, 4649, 610, 862, 312, 4625, 3387, 5932, 1018, 3225, 3124, 1704, 2884, 1133, 6881, 1238, 175, 459, 932, 1406, 916, 1964, 1597, 882, 3570, 4474, 980, 4731, 3589, 75, 3516, 1765, 185, 1492, 2395, 3338, 6041, 4262, 1258, 5892, 3175, 2773, 1211, 1238, 5540, 2540, 458, 3349, 1624, 254, 1259, 251, 996, 2217, 111, 4165, 1576, 2433, 4725, 601, 3410, 583, 1689, 4804, 1605, 3537, 1416, 675, 3016, 1278, 2093, 3098, 2182, 135, 2526, 1627, 1581, 3163, 2241, 4293, 165, 982, 3020, 251, 647, 284, 6042, 47, 3235, 42, 1765, 1540, 1070, 311, 2591, 3313, 2588, 3956, 3277, 1315, 223, 150, 5816, 1556, 8217, 1587, 203, 952, 1537, 699, 247, 1845, 2080, 1158, 4610, 3261, 1151, 3861, 4314, 2988, 4713, 149, 4011, 4600, 6454, 2759, 5564, 913, 2450, 1406, 4005, 325, 1340, 2510, 1797, 802, 1962, 3193, 777, 370, 826, 5024, 1102, 3047, 354, 2209, 1938, 3149, 2002, 5634, 6308, 970, 2616, 344, 3751, 1211, 2864, 886, 2441, 3504, 256, 325, 4777, 5238, 4026, 145, 386, 1116, 33, 1470, 139, 90, 2450, 379, 2125, 6231, 466, 1159, 1498, 2356, 3946, 923, 2799, 1877, 223, 2390, 755, 331, 1416, 597, 1944, 2332, 5424, 966, 339, 2199, 533, 79, 2836, 2005, 5073, 357, 814, 2777, 173, 5007, 1556, 1049, 1655, 2502, 1406, 7719, 4976, 1701, 143, 312, 3235, 2094, 651, 3799, 5000, 399, 870, 484, 3904, 1731, 1805, 1927, 5591, 2061, 1843, 4250, 6424, 1575, 8062, 1336, 484, 2466, 1315, 286, 2073, 5020, 1422, 6076, 4048, 2848, 2024, 882, 249, 377, 215, 1404, 1436, 2826, 3555, 539, 1030, 4402, 1717, 1644, 1398, 992, 3966, 3523, 3715, 871, 1619, 3199, 3628, 503, 3675, 3219, 1967, 4103, 3874, 1973, 3083, 155, 5842, 105, 2475, 3735, 2380, 2749, 898, 1948, 2410, 3954, 6170, 5070, 335, 2856, 418, 5313, 8245, 736, 3583, 2556, 2936, 392, 2801, 198, 2277, 4482, 392, 1924, 185, 872, 436, 2885, 1454, 1037, 255, 5582, 1332, 3635, 2748, 1823, 1298, 1416, 4777, 1036, 768, 975, 948, 230, 3020, 910, 2644, 1982, 1278, 732, 3174, 127, 2940, 3918, 7190, 253, 567, 209, 1398, 131, 2036, 713, 247, 539, 2908, 1454, 151, 1857, 2449, 117, 852, 5688, 2496, 822, 652, 1896, 753, 424, 2364, 280, 5944, 885, 1374, 1868, 82, 6474, 4407, 2466, 346, 5779, 3835, 1581, 2908, 1270, 5592, 878, 1318, 942, 2061, 4781, 6775, 815, 162, 3079, 223, 810, 1166, 3728, 3155, 1662, 2174, 2293, 2037, 1697, 2836, 2042, 2384, 639, 4013, 2116, 1669, 1225, 3649, 4154, 13086, 1211, 1948, 10072, 1267, 2037, 1571, 1830, 1701, 2247, 3981, 1462, 3448, 1065, 4225, 3616, 5287, 3004, 111, 1274, 1120, 3199, 1208, 3523, 3436, 5685, 517, 375, 745, 319, 886, 1720, 3946, 255, 589, 2544, 3415, 4194, 579, 848, 1573, 3858, 2036, 1278, 1228, 259, 1174, 627, 7939, 1125, 2787, 2416, 916, 2591, 2050, 1205, 287, 517, 1842, 1725, 1289, 1829, 154, 2163, 4161, 1258, 1844, 517, 8323, 5536, 2358, 3483, 2972, 5375, 4380, 952, 1829, 1480, 3592, 2157, 2189, 3325, 965, 1298, 2659, 412, 1627, 2922, 1537, 423, 326, 2501, 1743, 958, 194, 3848, 4697, 1290, 1102, 217, 1544, 1651, 1354, 5492, 1713, 178, 1930, 2544, 1969, 4537, 2787, 3352, 2516, 3728, 7873, 1540, 717, 263, 1062, 588, 1428, 193, 4923, 1494, 1183, 3068, 1788, 1293, 1018, 2306, 101, 3316, 3535, 1651, 452, 1188, 796, 2816, 4570, 2684, 423, 1034, 2285, 2458, 431, 585, 651, 3952, 1830, 1134, 4910, 5865, 1618, 1593, 2408, 8209, 3225, 271, 3545, 4008, 767, 485, 3950, 593, 559, 127, 1644, 80, 974, 1549, 2856, 3900, 2748, 3151, 369, 1071, 3894, 595, 2498, 4068, 251, 950, 2693, 1711, 1294, 759, 2529, 1557, 2399, 1254, 1923, 555, 4751, 3552, 1611, 815, 2173, 4234, 369, 657, 35, 227, 191, 300, 1169, 3696, 4495, 303, 258, 2587, 1494, 1713, 671, 1640, 1629, 183, 4996, 1398, 3255, 3545, 6157, 2828, 2462, 4466, 2026, 1733, 1120, 4390, 185, 994, 5015, 2444, 1551, 3575, 868, 1836, 1510, 1544, 1406, 884, 1845, 1046, 1749, 3691, 280, 3896, 3056, 5872, 3384, 1004, 788, 2816, 1869, 1808, 343, 1348, 499, 1215, 755, 2693, 490, 4231, 2407, 4165, 511, 509, 2496, 2926, 820, 5499, 777, 6311, 3705, 759, 1973, 3731, 2922, 2302, 277, 850, 1976, 2302, 659, 1798, 2004, 1838, 1458, 1685, 1494, 75, 788, 3530, 1186, 572, 3467, 4303, 671, 1901, 503, 4065, 1249, 614, 607, 3175, 788, 695, 2271, 1860, 2868, 1956, 433, 247, 644, 98, 1318, 1743, 214, 1797, 2736, 2451, 352, 2543, 3056, 3111, 2082, 3415, 3570, 391, 4504, 1382, 2577, 996, 1134, 1761, 4097, 2609, 3295, 2175, 3775, 1565, 2908, 5509, 160, 1640, 2631, 2572, 624, 3916, 4915, 587, 1817, 7017, 154, 5097, 785, 5976, 4847, 1635, 4277, 1970, 1534, 561, 832, 3229, 2773, 1177, 83, 2045, 2914, 952, 79, 2093, 7322, 388, 7717, 1098, 802, 539, 432, 395, 379, 303, 872, 1052, 2681, 3435, 4291, 641, 4364, 2163, 5937, 1388, 495, 167, 4291, 1867, 4567, 49, 5404, 1731, 1845, 1960, 2290, 4339, 6066, 1965, 99, 6431, 3735, 2261, 422, 334, 937, 1086, 198, 291, 2263, 922, 2013, 2641, 2257, 7433, 455, 1290, 36, 1725, 1619, 904, 1994, 2625, 974, 1853, 6183, 3137, 291, 739, 1772, 605, 144, 1120, 2163, 772, 2167, 495, 41, 834, 2636, 2848, 575, 1366, 412, 123, 697, 123, 1977, 2492, 721, 396, 790, 2741, 1070, 834, 3610, 5944, 1062, 1362, 1717, 2083, 288, 2051, 826, 4026, 788, 1693, 5410, 4376, 938, 1118, 2255, 2253, 4819, 2120, 1278, 1078, 474, 1724, 338, 2109, 3185, 2045, 2876, 1438, 419, 575, 786, 1072, 5343, 942, 1249, 2069, 4687, 280, 7943, 849, 2251, 3119, 1035, 1821, 778, 3453, 239, 1188, 970, 4673, 922, 617, 709, 2143, 577, 328, 4832, 2220, 255, 1151, 1241, 316, 2985, 3301, 1797, 2676, 4942, 1414, 885, 1155, 1593, 2766, 1491, 854, 4637, 2432, 1944, 2189, 176, 1076, 5635, 467, 79, 4577, 826, 7158, 2599, 3765, 4068, 2078, 952, 1411, 450, 4431, 1901, 2291, 1470, 2972, 196, 1263, 9678, 457, 1118, 1480, 2563, 3103, 1414, 1775, 176, 1403, 778, 73, 918, 3494, 1707, 1743, 1986, 926, 2780, 2388, 3645, 1869, 1631, 3757, 2366, 90, 2463, 1258, 5592, 4925, 2345, 2327, 2681, 3146, 837, 2652, 5829, 838, 2906, 4074, 1775, 516, 1947, 605, 7158, 383, 633, 3197, 335, 2432, 1444, 3036, 382, 5543, 1539, 65, 1230, 1342, 2003, 4170, 723, 109, 1311, 175, 7510, 1584, 499, 1174, 649, 820, 719, 703, 838, 2572, 8417, 671, 892, 5283, 1246, 2406, 493, 4482, 1133, 57, 2255, 2510, 1844, 5073, 428, 3209, 386, 3418, 1704, 1120, 559, 4211, 1120, 567, 3505, 3528, 1342, 3515, 3635, 978, 6064, 3644, 188, 151, 2352, 41, 5022, 2796, 6471, 2984, 385, 461, 2542, 2626, 1480, 1677, 988, 103, 2732, 5522, 2137, 503, 4287, 3962, 1869, 469, 1438, 1270, 2218, 139, 1857, 179, 5193, 377, 2554, 6239, 3066, 2556, 1593, 5100, 1641, 1880, 790, 377, 3327, 4211, 5257, 1498, 995, 3805, 427, 4040, 1211, 3169, 2407, 2450, 1958, 4693, 677, 2442, 1544, 743, 1965, 2988, 2394, 888, 801, 1010, 276, 4477, 7148, 4837, 1398, 1874, 9227, 2247, 647, 552, 1419, 307, 4074, 2362, 985, 2241, 5704, 79, 3237, 934, 961, 185, 3795, 1556, 2848, 336, 1897, 4218, 5243, 271, 1384, 3124, 6795, 894, 3307, 1393, 639, 6208, 565, 2006, 1118, 3103, 2129, 7266, 5432, 77, 2157, 1267, 615, 1471, 1830, 922, 2504, 798, 3350, 3782, 171, 6465, 2059, 2552, 1245, 2916, 1593, 1222, 1587, 1390, 732, 2833, 2440, 5642, 3593, 4037, 379, 838, 109, 2878, 4454, 4233, 5033, 1342, 2446, 1910, 2167, 262, 2743, 4229, 3605, 1414, 3146, 848, 1693, 784, 117, 765, 1833, 3593, 1214, 2380, 5812, 4165, 1772, 207, 2218, 4921, 1584, 751, 364, 246, 1194, 1831, 416, 3499, 5926, 1977, 432, 8994, 2985, 326, 2988, 283, 2350, 3515, 392, 1890, 1098, 731, 4175, 2175, 3006, 986, 503, 2852, 1731, 4391, 667, 3060, 143, 2117, 2073, 214, 5309, 4136, 4171, 2261, 1989, 3592, 868, 2376, 4379, 1031, 2416, 316, 1691, 1696, 5145, 3617, 3002, 1872, 612, 2920, 1544, 3528, 3825, 6199, 2346, 3307, 161, 1171, 1929, 1358, 116, 2014, 1163, 1235, 6171, 5219, 3775, 2189, 1789, 105, 1470, 1155, 549, 149, 1731, 3153, 49, 363, 1105, 6579, 223, 579, 71, 1225, 735, 2371, 1471, 1071, 2648, 3150, 246, 3757, 3520, 6008, 2964, 659, 2111, 4729, 1102, 431, 1240, 1235, 2006, 1182, 3568, 787, 623, 452, 2430, 2348, 1569, 3292, 1691, 4211, 3142, 202, 958, 2396, 94, 1719, 3207, 687, 2109, 2716, 1406, 1571, 1661, 4594, 615, 4506, 973, 4327, 679, 1857, 764, 1651, 1653, 222, 2396, 1686, 1001, 3352, 809, 1869, 4013, 904, 3174, 3221, 1225, 1416, 4731, 1084, 1579, 864, 2423, 865, 1304, 1286, 2908, 2656, 469, 4422, 1186, 973, 3401, 2748, 4961, 9390, 1230, 3209, 195, 2410, 360, 3354, 6615, 3075, 3435, 2741, 1981, 1917, 4857, 387, 3016, 2726, 3825, 605, 2621, 1603, 3029, 491, 3984, 2588, 366, 341, 1813, 3466, 703, 2693, 2171, 1025, 340, 551, 510, 175, 4637, 67, 882, 73, 605, 2362, 3964, 7549, 4673, 1577, 423, 3578, 228, 3675, 1823, 2896, 1985, 2696, 1358, 3881, 552, 2336, 410, 621, 3271, 4036, 3705, 4026, 269, 2567, 694, 126, 1937, 2548, 1215, 368, 4850, 772, 958, 314, 3430, 3185, 4326, 2366, 1640, 1845, 197, 1604, 3325, 341, 361, 2358, 371, 451, 543, 850, 1925, 4028, 122, 1607, 2889, 3414, 2460, 5806, 1086, 5313, 1917, 4354, 2093, 1201, 3193, 2117, 3523, 2467, 5849, 1438, 4853, 2926, 2363, 1306, 316, 4210, 1884, 4363, 3271, 1842, 2049, 771, 3099, 3012, 5518, 6630, 610, 2223, 575, 1684, 1099, 708, 164, 193, 3914, 2160, 5296, 2423, 2841, 467, 2822, 641, 1596, 3072, 822, 2936, 7240, 4602, 635, 1482, 1539, 2795, 4026, 1528, 121, 645, 3635, 1390, 2862, 4138, 3355, 128, 459, 215, 1800, 1054, 871, 185, 1054, 2051, 1789, 528, 3717, 1973, 810, 2372, 3635, 4739, 3103, 5221, 633, 2678, 813, 533, 2155, 2402, 451, 3219, 836, 772, 309, 5992, 2972, 830, 1367, 284, 425, 1395, 1679, 3984, 153, 124, 999, 575, 2563, 4090, 788, 4431, 2203, 1691, 2263, 2490, 925, 2336, 443, 942, 1867, 2340, 417, 2600, 3739, 2756, 4512, 1090, 2094, 2876, 4042, 848, 159, 1813, 4332, 793, 527, 2596, 3034, 1296, 2960, 777, 38, 2888, 482, 432, 510, 7588, 2093, 571, 1844, 3254, 3791, 3387, 159, 4206, 487, 1516, 452, 741, 2852, 4165, 1494, 810, 468, 2726, 673, 3881, 467, 367, 1551, 2302, 1653, 431, 2153, 378, 1280, 1970, 4820, 2579, 459, 695, 763, 1612, 2324, 6261, 45, 4111, 2756, 2109, 487, 4809, 2419, 4727, 1637, 4314, 3715, 2247, 1601, 2976, 1907, 1508, 3020, 3392, 4138, 2117, 3944, 515, 2587, 424, 7182, 4207, 2479, 595, 468, 1571, 858, 3608, 2778, 549, 1193, 1845, 765]\n"
          ]
        }
      ]
    },
    {
      "cell_type": "code",
      "source": [
        "# Importar LabelEncoder\n",
        "from sklearn import preprocessing\n",
        "#creación labelEncoder\n",
        "le = preprocessing.LabelEncoder()\n",
        "# convertir nombres en números.\n",
        "categoria_prod_codificado=le.fit_transform(categoria_prod)\n",
        "print(categoria_prod_codificado)"
      ],
      "metadata": {
        "id": "gilCj_08ouaq",
        "colab": {
          "base_uri": "https://localhost:8080/"
        },
        "outputId": "20069611-a5b3-4bf2-f9c2-7a0b04521e11"
      },
      "execution_count": 133,
      "outputs": [
        {
          "output_type": "stream",
          "name": "stdout",
          "text": [
            "[ 4 14 10 ...  8 13 14]\n"
          ]
        }
      ]
    },
    {
      "cell_type": "code",
      "source": [
        "categoria_prod_codificado.shape"
      ],
      "metadata": {
        "colab": {
          "base_uri": "https://localhost:8080/"
        },
        "id": "K3n97EBfqjUu",
        "outputId": "7b33cd2b-5c2c-402a-f5e7-d23f4aba405a"
      },
      "execution_count": 134,
      "outputs": [
        {
          "output_type": "execute_result",
          "data": {
            "text/plain": [
              "(8523,)"
            ]
          },
          "metadata": {},
          "execution_count": 134
        }
      ]
    },
    {
      "cell_type": "code",
      "source": [
        "# conversion de nombres a números\n",
        "locacion_tienda_codificado=le.fit_transform(locacion_tienda)\n",
        "print(locacion_tienda_codificado)"
      ],
      "metadata": {
        "colab": {
          "base_uri": "https://localhost:8080/"
        },
        "id": "hWYDqgl8MIxx",
        "outputId": "f92063ac-2fce-4d97-91f9-e55b5807834a"
      },
      "execution_count": 135,
      "outputs": [
        {
          "output_type": "stream",
          "name": "stdout",
          "text": [
            "[0 2 0 ... 1 2 0]\n"
          ]
        }
      ]
    },
    {
      "cell_type": "code",
      "source": [
        "locacion_tienda_codificado.shape"
      ],
      "metadata": {
        "colab": {
          "base_uri": "https://localhost:8080/"
        },
        "id": "4WdBEr01q4DO",
        "outputId": "5563937d-010c-41e7-cc06-e06ba0b48c60"
      },
      "execution_count": 136,
      "outputs": [
        {
          "output_type": "execute_result",
          "data": {
            "text/plain": [
              "(8523,)"
            ]
          },
          "metadata": {},
          "execution_count": 136
        }
      ]
    },
    {
      "cell_type": "code",
      "source": [
        "tipo_tienda_codificado=le.fit_transform(tipo_tienda)\n",
        "print(tipo_tienda_codificado)"
      ],
      "metadata": {
        "colab": {
          "base_uri": "https://localhost:8080/"
        },
        "id": "fcmRtBash_yg",
        "outputId": "663a98db-44c6-496e-8624-ba8c2835f4e0"
      },
      "execution_count": 137,
      "outputs": [
        {
          "output_type": "stream",
          "name": "stdout",
          "text": [
            "[1 2 1 ... 1 2 1]\n"
          ]
        }
      ]
    },
    {
      "cell_type": "code",
      "source": [
        "tipo_tienda_codificado.shape"
      ],
      "metadata": {
        "colab": {
          "base_uri": "https://localhost:8080/"
        },
        "id": "JxDLEigjq99I",
        "outputId": "a3feee16-bcf5-4957-d742-b26e574f5a5f"
      },
      "execution_count": 138,
      "outputs": [
        {
          "output_type": "execute_result",
          "data": {
            "text/plain": [
              "(8523,)"
            ]
          },
          "metadata": {},
          "execution_count": 138
        }
      ]
    },
    {
      "cell_type": "code",
      "source": [
        "# Una vez convertidos los valores categóricos a numéricos estos se combinan en una sola matriz\n",
        "caracteristicas=list(zip(categoria_prod_codificado,locacion_tienda_codificado,tipo_tienda_codificado,mrp))\n"
      ],
      "metadata": {
        "id": "i_PJ5mJHjJWB"
      },
      "execution_count": 161,
      "outputs": []
    },
    {
      "cell_type": "code",
      "source": [
        "# Importar la función train_test_split\n",
        "from sklearn.model_selection import train_test_split\n",
        "\n",
        "# Separar el dataset en set de entrenamiento y set de prueba\n",
        "X_train, X_test, y_train, y_test = train_test_split(caracteristicas, ventas_array, test_size=0.3) # 70% entrenamiento y 30% prueba"
      ],
      "metadata": {
        "id": "Sb0_PhXImBBC"
      },
      "execution_count": 162,
      "outputs": []
    },
    {
      "cell_type": "code",
      "source": [
        "#Importar modelo clasificador KNN\n",
        "from sklearn.neighbors import KNeighborsClassifier\n",
        "\n",
        "#Crear clasificador KNN\n",
        "knn = KNeighborsClassifier(n_neighbors=5)\n",
        "\n",
        "# Entrenar el modelo usando los sets de entrenamiento\n",
        "knn.fit(X_train, y_train)\n",
        "\n",
        "# Predecir la respuesta para el dataset de prueba\n",
        "y_pred = knn.predict(X_test)"
      ],
      "metadata": {
        "id": "mqF9DNDpoDR1"
      },
      "execution_count": 163,
      "outputs": []
    },
    {
      "cell_type": "code",
      "source": [
        "#Importar scikit-learn metrics para calcular la exactitud\n",
        "from sklearn import metrics\n",
        "# Exactitud del modelo, que tan frecuente es correcto el clasificador\n",
        "print(\"Accuracy:\",metrics.accuracy_score(y_test, y_pred))"
      ],
      "metadata": {
        "colab": {
          "base_uri": "https://localhost:8080/"
        },
        "id": "GfgkzlM0oZqq",
        "outputId": "69f6b7cf-d1fb-40fb-b122-e0f751f19709"
      },
      "execution_count": 164,
      "outputs": [
        {
          "output_type": "stream",
          "name": "stdout",
          "text": [
            "Accuracy: 0.01368791552600704\n"
          ]
        }
      ]
    },
    {
      "cell_type": "code",
      "source": [
        "#Importar modelo clasificador KNN\n",
        "from sklearn.neighbors import KNeighborsClassifier\n",
        "\n",
        "#Crear clasificador KNN\n",
        "knn = KNeighborsClassifier(n_neighbors=8)\n",
        "\n",
        "# Entrenar el modelo usando los sets de entrenamiento\n",
        "knn.fit(X_train, y_train)\n",
        "\n",
        "# Predecir la respuesta para el dataset de prueba\n",
        "y_pred = knn.predict(X_test)"
      ],
      "metadata": {
        "id": "xi8NNRWk4dIQ"
      },
      "execution_count": 199,
      "outputs": []
    },
    {
      "cell_type": "code",
      "source": [
        "#Importar scikit-learn metrics para calcular la exactitud\n",
        "from sklearn import metrics\n",
        "# Exactitud del modelo, que tan frecuente es correcto el clasificador\n",
        "print(\"Accuracy:\",metrics.accuracy_score(y_test, y_pred))"
      ],
      "metadata": {
        "colab": {
          "base_uri": "https://localhost:8080/"
        },
        "id": "n8J7yusZ4-O0",
        "outputId": "4206258c-a256-44cf-e310-1f74569e451c"
      },
      "execution_count": 200,
      "outputs": [
        {
          "output_type": "stream",
          "name": "stdout",
          "text": [
            "Accuracy: 0.012123582323034806\n"
          ]
        }
      ]
    }
  ]
}